{
 "cells": [
  {
   "cell_type": "markdown",
   "metadata": {},
   "source": [
    "### Introducción: Métricas para Evaluar la Predicción Meteorológica\n",
    "\n",
    "Las métricas juegan un rol fundamental en la evaluación de modelos de predicción meteorológica, especialmente en un contexto de comparación entre métodos tradicionales de predicción numérica y enfoques basados en machine learning (ML). Estas herramientas permiten cuantificar el desempeño de los modelos al analizar tanto su precisión general como su capacidad para predecir fenómenos extremos y variaciones espaciales.\n",
    "\n",
    "#### Principales Métricas de Evaluación\n",
    "\n",
    "1. **RMSE (Root Mean Square Error):**  \n",
    "   - **Definición:** Mide la magnitud promedio de los errores entre las predicciones y los valores observados. \n",
    "   - **Importancia:** Evalúa la precisión general del modelo, penalizando fuertemente los errores grandes. En meteorología, se pondera por el coseno de la latitud para reflejar la geometría esférica de la Tierra.\n",
    "   - **Aplicación:** Es ampliamente utilizada en estudios de predicción para validar variables clave como temperatura y altura geopotencial.\n",
    "\n",
    "2. **Bias (Sesgo):**  \n",
    "   - **Definición:** Calcula la diferencia promedio entre las predicciones y los valores observados. \n",
    "   - **Importancia:** Un sesgo positivo o negativo indica si el modelo tiende a sobreestimar o subestimar las observaciones. En predicción meteorológica, el sesgo ponderado por latitud permite ajustar el análisis a la distribución espacial de los datos.\n",
    "   - **Uso común:** Es crítico para entender errores sistemáticos, especialmente en horizontes temporales largos.\n",
    "\n",
    "3. **ACC (Anomaly Correlation Coefficient):**  \n",
    "   - **Definición:** Mide la correlación entre las anomalías (desviaciones de la media) de las predicciones y los valores observados.\n",
    "   - **Relevancia:** Captura la habilidad del modelo para replicar patrones de variación en el clima, más allá de los valores absolutos. Es especialmente útil para evaluar eventos extremos.\n",
    "   - **Ponderación:** También se ajusta por latitud, asegurando que regiones con menos densidad de datos no sean subrepresentadas.\n",
    "\n",
    "#### Contexto en Predicción Meteorológica\n",
    "Estas métricas, adaptadas de la práctica operativa y estudios como *\"The Rise of Data-Driven Weather Forecasting\"*, permiten:\n",
    "- **Evaluar precisión global:** Comparar modelos tradicionales y de ML en términos de predicción media.\n",
    "- **Analizar eventos extremos:** Verificar la habilidad del modelo para predecir fenómenos de alta intensidad, como ciclones tropicales o variaciones de temperatura extremas.\n",
    "- **Identificar fortalezas y limitaciones:** Explorar tendencias sistemáticas y áreas donde los modelos pueden fallar, como la predicción de estructuras a pequeña escala o fenómenos no presentes en los datos de entrenamiento.\n",
    "\n"
   ]
  },
  {
   "cell_type": "code",
   "execution_count": 4,
   "metadata": {},
   "outputs": [
    {
     "name": "stderr",
     "output_type": "stream",
     "text": [
      "c:\\Users\\Victor\\miniconda3\\envs\\Aurora_env\\Lib\\site-packages\\tqdm\\auto.py:21: TqdmWarning: IProgress not found. Please update jupyter and ipywidgets. See https://ipywidgets.readthedocs.io/en/stable/user_install.html\n",
      "  from .autonotebook import tqdm as notebook_tqdm\n"
     ]
    },
    {
     "data": {
      "text/html": [
       "<div><svg style=\"position: absolute; width: 0; height: 0; overflow: hidden\">\n",
       "<defs>\n",
       "<symbol id=\"icon-database\" viewBox=\"0 0 32 32\">\n",
       "<path d=\"M16 0c-8.837 0-16 2.239-16 5v4c0 2.761 7.163 5 16 5s16-2.239 16-5v-4c0-2.761-7.163-5-16-5z\"></path>\n",
       "<path d=\"M16 17c-8.837 0-16-2.239-16-5v6c0 2.761 7.163 5 16 5s16-2.239 16-5v-6c0 2.761-7.163 5-16 5z\"></path>\n",
       "<path d=\"M16 26c-8.837 0-16-2.239-16-5v6c0 2.761 7.163 5 16 5s16-2.239 16-5v-6c0 2.761-7.163 5-16 5z\"></path>\n",
       "</symbol>\n",
       "<symbol id=\"icon-file-text2\" viewBox=\"0 0 32 32\">\n",
       "<path d=\"M28.681 7.159c-0.694-0.947-1.662-2.053-2.724-3.116s-2.169-2.030-3.116-2.724c-1.612-1.182-2.393-1.319-2.841-1.319h-15.5c-1.378 0-2.5 1.121-2.5 2.5v27c0 1.378 1.122 2.5 2.5 2.5h23c1.378 0 2.5-1.122 2.5-2.5v-19.5c0-0.448-0.137-1.23-1.319-2.841zM24.543 5.457c0.959 0.959 1.712 1.825 2.268 2.543h-4.811v-4.811c0.718 0.556 1.584 1.309 2.543 2.268zM28 29.5c0 0.271-0.229 0.5-0.5 0.5h-23c-0.271 0-0.5-0.229-0.5-0.5v-27c0-0.271 0.229-0.5 0.5-0.5 0 0 15.499-0 15.5 0v7c0 0.552 0.448 1 1 1h7v19.5z\"></path>\n",
       "<path d=\"M23 26h-14c-0.552 0-1-0.448-1-1s0.448-1 1-1h14c0.552 0 1 0.448 1 1s-0.448 1-1 1z\"></path>\n",
       "<path d=\"M23 22h-14c-0.552 0-1-0.448-1-1s0.448-1 1-1h14c0.552 0 1 0.448 1 1s-0.448 1-1 1z\"></path>\n",
       "<path d=\"M23 18h-14c-0.552 0-1-0.448-1-1s0.448-1 1-1h14c0.552 0 1 0.448 1 1s-0.448 1-1 1z\"></path>\n",
       "</symbol>\n",
       "</defs>\n",
       "</svg>\n",
       "<style>/* CSS stylesheet for displaying xarray objects in jupyterlab.\n",
       " *\n",
       " */\n",
       "\n",
       ":root {\n",
       "  --xr-font-color0: var(--jp-content-font-color0, rgba(0, 0, 0, 1));\n",
       "  --xr-font-color2: var(--jp-content-font-color2, rgba(0, 0, 0, 0.54));\n",
       "  --xr-font-color3: var(--jp-content-font-color3, rgba(0, 0, 0, 0.38));\n",
       "  --xr-border-color: var(--jp-border-color2, #e0e0e0);\n",
       "  --xr-disabled-color: var(--jp-layout-color3, #bdbdbd);\n",
       "  --xr-background-color: var(--jp-layout-color0, white);\n",
       "  --xr-background-color-row-even: var(--jp-layout-color1, white);\n",
       "  --xr-background-color-row-odd: var(--jp-layout-color2, #eeeeee);\n",
       "}\n",
       "\n",
       "html[theme=dark],\n",
       "html[data-theme=dark],\n",
       "body[data-theme=dark],\n",
       "body.vscode-dark {\n",
       "  --xr-font-color0: rgba(255, 255, 255, 1);\n",
       "  --xr-font-color2: rgba(255, 255, 255, 0.54);\n",
       "  --xr-font-color3: rgba(255, 255, 255, 0.38);\n",
       "  --xr-border-color: #1F1F1F;\n",
       "  --xr-disabled-color: #515151;\n",
       "  --xr-background-color: #111111;\n",
       "  --xr-background-color-row-even: #111111;\n",
       "  --xr-background-color-row-odd: #313131;\n",
       "}\n",
       "\n",
       ".xr-wrap {\n",
       "  display: block !important;\n",
       "  min-width: 300px;\n",
       "  max-width: 700px;\n",
       "}\n",
       "\n",
       ".xr-text-repr-fallback {\n",
       "  /* fallback to plain text repr when CSS is not injected (untrusted notebook) */\n",
       "  display: none;\n",
       "}\n",
       "\n",
       ".xr-header {\n",
       "  padding-top: 6px;\n",
       "  padding-bottom: 6px;\n",
       "  margin-bottom: 4px;\n",
       "  border-bottom: solid 1px var(--xr-border-color);\n",
       "}\n",
       "\n",
       ".xr-header > div,\n",
       ".xr-header > ul {\n",
       "  display: inline;\n",
       "  margin-top: 0;\n",
       "  margin-bottom: 0;\n",
       "}\n",
       "\n",
       ".xr-obj-type,\n",
       ".xr-array-name {\n",
       "  margin-left: 2px;\n",
       "  margin-right: 10px;\n",
       "}\n",
       "\n",
       ".xr-obj-type {\n",
       "  color: var(--xr-font-color2);\n",
       "}\n",
       "\n",
       ".xr-sections {\n",
       "  padding-left: 0 !important;\n",
       "  display: grid;\n",
       "  grid-template-columns: 150px auto auto 1fr 0 20px 0 20px;\n",
       "}\n",
       "\n",
       ".xr-section-item {\n",
       "  display: contents;\n",
       "}\n",
       "\n",
       ".xr-section-item input {\n",
       "  display: inline-block;\n",
       "  opacity: 0;\n",
       "}\n",
       "\n",
       ".xr-section-item input + label {\n",
       "  color: var(--xr-disabled-color);\n",
       "}\n",
       "\n",
       ".xr-section-item input:enabled + label {\n",
       "  cursor: pointer;\n",
       "  color: var(--xr-font-color2);\n",
       "}\n",
       "\n",
       ".xr-section-item input:focus + label {\n",
       "  border: 2px solid var(--xr-font-color0);\n",
       "}\n",
       "\n",
       ".xr-section-item input:enabled + label:hover {\n",
       "  color: var(--xr-font-color0);\n",
       "}\n",
       "\n",
       ".xr-section-summary {\n",
       "  grid-column: 1;\n",
       "  color: var(--xr-font-color2);\n",
       "  font-weight: 500;\n",
       "}\n",
       "\n",
       ".xr-section-summary > span {\n",
       "  display: inline-block;\n",
       "  padding-left: 0.5em;\n",
       "}\n",
       "\n",
       ".xr-section-summary-in:disabled + label {\n",
       "  color: var(--xr-font-color2);\n",
       "}\n",
       "\n",
       ".xr-section-summary-in + label:before {\n",
       "  display: inline-block;\n",
       "  content: '►';\n",
       "  font-size: 11px;\n",
       "  width: 15px;\n",
       "  text-align: center;\n",
       "}\n",
       "\n",
       ".xr-section-summary-in:disabled + label:before {\n",
       "  color: var(--xr-disabled-color);\n",
       "}\n",
       "\n",
       ".xr-section-summary-in:checked + label:before {\n",
       "  content: '▼';\n",
       "}\n",
       "\n",
       ".xr-section-summary-in:checked + label > span {\n",
       "  display: none;\n",
       "}\n",
       "\n",
       ".xr-section-summary,\n",
       ".xr-section-inline-details {\n",
       "  padding-top: 4px;\n",
       "  padding-bottom: 4px;\n",
       "}\n",
       "\n",
       ".xr-section-inline-details {\n",
       "  grid-column: 2 / -1;\n",
       "}\n",
       "\n",
       ".xr-section-details {\n",
       "  display: none;\n",
       "  grid-column: 1 / -1;\n",
       "  margin-bottom: 5px;\n",
       "}\n",
       "\n",
       ".xr-section-summary-in:checked ~ .xr-section-details {\n",
       "  display: contents;\n",
       "}\n",
       "\n",
       ".xr-array-wrap {\n",
       "  grid-column: 1 / -1;\n",
       "  display: grid;\n",
       "  grid-template-columns: 20px auto;\n",
       "}\n",
       "\n",
       ".xr-array-wrap > label {\n",
       "  grid-column: 1;\n",
       "  vertical-align: top;\n",
       "}\n",
       "\n",
       ".xr-preview {\n",
       "  color: var(--xr-font-color3);\n",
       "}\n",
       "\n",
       ".xr-array-preview,\n",
       ".xr-array-data {\n",
       "  padding: 0 5px !important;\n",
       "  grid-column: 2;\n",
       "}\n",
       "\n",
       ".xr-array-data,\n",
       ".xr-array-in:checked ~ .xr-array-preview {\n",
       "  display: none;\n",
       "}\n",
       "\n",
       ".xr-array-in:checked ~ .xr-array-data,\n",
       ".xr-array-preview {\n",
       "  display: inline-block;\n",
       "}\n",
       "\n",
       ".xr-dim-list {\n",
       "  display: inline-block !important;\n",
       "  list-style: none;\n",
       "  padding: 0 !important;\n",
       "  margin: 0;\n",
       "}\n",
       "\n",
       ".xr-dim-list li {\n",
       "  display: inline-block;\n",
       "  padding: 0;\n",
       "  margin: 0;\n",
       "}\n",
       "\n",
       ".xr-dim-list:before {\n",
       "  content: '(';\n",
       "}\n",
       "\n",
       ".xr-dim-list:after {\n",
       "  content: ')';\n",
       "}\n",
       "\n",
       ".xr-dim-list li:not(:last-child):after {\n",
       "  content: ',';\n",
       "  padding-right: 5px;\n",
       "}\n",
       "\n",
       ".xr-has-index {\n",
       "  font-weight: bold;\n",
       "}\n",
       "\n",
       ".xr-var-list,\n",
       ".xr-var-item {\n",
       "  display: contents;\n",
       "}\n",
       "\n",
       ".xr-var-item > div,\n",
       ".xr-var-item label,\n",
       ".xr-var-item > .xr-var-name span {\n",
       "  background-color: var(--xr-background-color-row-even);\n",
       "  margin-bottom: 0;\n",
       "}\n",
       "\n",
       ".xr-var-item > .xr-var-name:hover span {\n",
       "  padding-right: 5px;\n",
       "}\n",
       "\n",
       ".xr-var-list > li:nth-child(odd) > div,\n",
       ".xr-var-list > li:nth-child(odd) > label,\n",
       ".xr-var-list > li:nth-child(odd) > .xr-var-name span {\n",
       "  background-color: var(--xr-background-color-row-odd);\n",
       "}\n",
       "\n",
       ".xr-var-name {\n",
       "  grid-column: 1;\n",
       "}\n",
       "\n",
       ".xr-var-dims {\n",
       "  grid-column: 2;\n",
       "}\n",
       "\n",
       ".xr-var-dtype {\n",
       "  grid-column: 3;\n",
       "  text-align: right;\n",
       "  color: var(--xr-font-color2);\n",
       "}\n",
       "\n",
       ".xr-var-preview {\n",
       "  grid-column: 4;\n",
       "}\n",
       "\n",
       ".xr-index-preview {\n",
       "  grid-column: 2 / 5;\n",
       "  color: var(--xr-font-color2);\n",
       "}\n",
       "\n",
       ".xr-var-name,\n",
       ".xr-var-dims,\n",
       ".xr-var-dtype,\n",
       ".xr-preview,\n",
       ".xr-attrs dt {\n",
       "  white-space: nowrap;\n",
       "  overflow: hidden;\n",
       "  text-overflow: ellipsis;\n",
       "  padding-right: 10px;\n",
       "}\n",
       "\n",
       ".xr-var-name:hover,\n",
       ".xr-var-dims:hover,\n",
       ".xr-var-dtype:hover,\n",
       ".xr-attrs dt:hover {\n",
       "  overflow: visible;\n",
       "  width: auto;\n",
       "  z-index: 1;\n",
       "}\n",
       "\n",
       ".xr-var-attrs,\n",
       ".xr-var-data,\n",
       ".xr-index-data {\n",
       "  display: none;\n",
       "  background-color: var(--xr-background-color) !important;\n",
       "  padding-bottom: 5px !important;\n",
       "}\n",
       "\n",
       ".xr-var-attrs-in:checked ~ .xr-var-attrs,\n",
       ".xr-var-data-in:checked ~ .xr-var-data,\n",
       ".xr-index-data-in:checked ~ .xr-index-data {\n",
       "  display: block;\n",
       "}\n",
       "\n",
       ".xr-var-data > table {\n",
       "  float: right;\n",
       "}\n",
       "\n",
       ".xr-var-name span,\n",
       ".xr-var-data,\n",
       ".xr-index-name div,\n",
       ".xr-index-data,\n",
       ".xr-attrs {\n",
       "  padding-left: 25px !important;\n",
       "}\n",
       "\n",
       ".xr-attrs,\n",
       ".xr-var-attrs,\n",
       ".xr-var-data,\n",
       ".xr-index-data {\n",
       "  grid-column: 1 / -1;\n",
       "}\n",
       "\n",
       "dl.xr-attrs {\n",
       "  padding: 0;\n",
       "  margin: 0;\n",
       "  display: grid;\n",
       "  grid-template-columns: 125px auto;\n",
       "}\n",
       "\n",
       ".xr-attrs dt,\n",
       ".xr-attrs dd {\n",
       "  padding: 0;\n",
       "  margin: 0;\n",
       "  float: left;\n",
       "  padding-right: 10px;\n",
       "  width: auto;\n",
       "}\n",
       "\n",
       ".xr-attrs dt {\n",
       "  font-weight: normal;\n",
       "  grid-column: 1;\n",
       "}\n",
       "\n",
       ".xr-attrs dt:hover span {\n",
       "  display: inline-block;\n",
       "  background: var(--xr-background-color);\n",
       "  padding-right: 10px;\n",
       "}\n",
       "\n",
       ".xr-attrs dd {\n",
       "  grid-column: 2;\n",
       "  white-space: pre-wrap;\n",
       "  word-break: break-all;\n",
       "}\n",
       "\n",
       ".xr-icon-database,\n",
       ".xr-icon-file-text2,\n",
       ".xr-no-icon {\n",
       "  display: inline-block;\n",
       "  vertical-align: middle;\n",
       "  width: 1em;\n",
       "  height: 1.5em !important;\n",
       "  stroke-width: 0;\n",
       "  stroke: currentColor;\n",
       "  fill: currentColor;\n",
       "}\n",
       "</style><pre class='xr-text-repr-fallback'>&lt;xarray.Dataset&gt; Size: 381MB\n",
       "Dimensions:    (depth: 49, latitude: 180, longitude: 180, time: 30)\n",
       "Coordinates:\n",
       "  * depth      (depth) float32 196B 0.494 1.541 2.646 ... 4.833e+03 5.275e+03\n",
       "  * latitude   (latitude) float32 720B 19.58 19.67 19.75 ... 34.33 34.42 34.5\n",
       "  * longitude  (longitude) float32 720B -20.92 -20.83 -20.75 ... -6.083 -6.0\n",
       "  * time       (time) datetime64[ns] 240B 2014-01-01 2014-01-02 ... 2014-01-30\n",
       "Data variables:\n",
       "    thetao     (time, depth, latitude, longitude) float64 381MB ...\n",
       "Attributes: (12/25)\n",
       "    Conventions:               CF-1.4\n",
       "    bulletin_date:             2021-07-07 00:00:00\n",
       "    bulletin_type:             operational\n",
       "    comment:                   CMEMS product\n",
       "    domain_name:               GL12\n",
       "    easting:                   longitude\n",
       "    ...                        ...\n",
       "    references:                http://www.mercator-ocean.fr\n",
       "    source:                    MERCATOR GLORYS12V1\n",
       "    title:                     daily mean fields from Global Ocean Physics An...\n",
       "    z_max:                     5727.9169921875\n",
       "    z_min:                     0.49402499198913574\n",
       "    copernicusmarine_version:  1.3.3</pre><div class='xr-wrap' style='display:none'><div class='xr-header'><div class='xr-obj-type'>xarray.Dataset</div></div><ul class='xr-sections'><li class='xr-section-item'><input id='section-54c4427f-1ac9-42a8-98fd-4543b0d5c880' class='xr-section-summary-in' type='checkbox' disabled ><label for='section-54c4427f-1ac9-42a8-98fd-4543b0d5c880' class='xr-section-summary'  title='Expand/collapse section'>Dimensions:</label><div class='xr-section-inline-details'><ul class='xr-dim-list'><li><span class='xr-has-index'>depth</span>: 49</li><li><span class='xr-has-index'>latitude</span>: 180</li><li><span class='xr-has-index'>longitude</span>: 180</li><li><span class='xr-has-index'>time</span>: 30</li></ul></div><div class='xr-section-details'></div></li><li class='xr-section-item'><input id='section-de0fae57-1841-4134-85a2-e349a6eae7b3' class='xr-section-summary-in' type='checkbox'  checked><label for='section-de0fae57-1841-4134-85a2-e349a6eae7b3' class='xr-section-summary' >Coordinates: <span>(4)</span></label><div class='xr-section-inline-details'></div><div class='xr-section-details'><ul class='xr-var-list'><li class='xr-var-item'><div class='xr-var-name'><span class='xr-has-index'>depth</span></div><div class='xr-var-dims'>(depth)</div><div class='xr-var-dtype'>float32</div><div class='xr-var-preview xr-preview'>0.494 1.541 ... 4.833e+03 5.275e+03</div><input id='attrs-6dda0de8-5f10-4c8b-8e24-2bf5dd27352f' class='xr-var-attrs-in' type='checkbox' ><label for='attrs-6dda0de8-5f10-4c8b-8e24-2bf5dd27352f' title='Show/Hide attributes'><svg class='icon xr-icon-file-text2'><use xlink:href='#icon-file-text2'></use></svg></label><input id='data-fee1ce70-e917-45f6-89dc-8c49fa900b2b' class='xr-var-data-in' type='checkbox'><label for='data-fee1ce70-e917-45f6-89dc-8c49fa900b2b' title='Show/Hide data repr'><svg class='icon xr-icon-database'><use xlink:href='#icon-database'></use></svg></label><div class='xr-var-attrs'><dl class='xr-attrs'><dt><span>axis :</span></dt><dd>Z</dd><dt><span>long_name :</span></dt><dd>Depth</dd><dt><span>positive :</span></dt><dd>down</dd><dt><span>standard_name :</span></dt><dd>depth</dd><dt><span>unit_long :</span></dt><dd>Meters</dd><dt><span>units :</span></dt><dd>m</dd><dt><span>valid_max :</span></dt><dd>5274.784</dd><dt><span>valid_min :</span></dt><dd>0.494025</dd></dl></div><div class='xr-var-data'><pre>array([4.940250e-01, 1.541375e+00, 2.645669e+00, 3.819495e+00, 5.078224e+00,\n",
       "       6.440614e+00, 7.929560e+00, 9.572997e+00, 1.140500e+01, 1.346714e+01,\n",
       "       1.581007e+01, 1.849556e+01, 2.159882e+01, 2.521141e+01, 2.944473e+01,\n",
       "       3.443415e+01, 4.034405e+01, 4.737369e+01, 5.576429e+01, 6.580727e+01,\n",
       "       7.785385e+01, 9.232607e+01, 1.097293e+02, 1.306660e+02, 1.558507e+02,\n",
       "       1.861256e+02, 2.224752e+02, 2.660403e+02, 3.181274e+02, 3.802130e+02,\n",
       "       4.539377e+02, 5.410889e+02, 6.435668e+02, 7.633331e+02, 9.023393e+02,\n",
       "       1.062440e+03, 1.245291e+03, 1.452251e+03, 1.684284e+03, 1.941893e+03,\n",
       "       2.225078e+03, 2.533336e+03, 2.865703e+03, 3.220820e+03, 3.597032e+03,\n",
       "       3.992484e+03, 4.405224e+03, 4.833291e+03, 5.274784e+03], dtype=float32)</pre></div></li><li class='xr-var-item'><div class='xr-var-name'><span class='xr-has-index'>latitude</span></div><div class='xr-var-dims'>(latitude)</div><div class='xr-var-dtype'>float32</div><div class='xr-var-preview xr-preview'>19.58 19.67 19.75 ... 34.42 34.5</div><input id='attrs-430a1254-9126-4783-a4e2-a40b0cf400f6' class='xr-var-attrs-in' type='checkbox' ><label for='attrs-430a1254-9126-4783-a4e2-a40b0cf400f6' title='Show/Hide attributes'><svg class='icon xr-icon-file-text2'><use xlink:href='#icon-file-text2'></use></svg></label><input id='data-26db1a6c-db87-4f67-8b29-96aedc4e65d8' class='xr-var-data-in' type='checkbox'><label for='data-26db1a6c-db87-4f67-8b29-96aedc4e65d8' title='Show/Hide data repr'><svg class='icon xr-icon-database'><use xlink:href='#icon-database'></use></svg></label><div class='xr-var-attrs'><dl class='xr-attrs'><dt><span>axis :</span></dt><dd>Y</dd><dt><span>long_name :</span></dt><dd>Latitude</dd><dt><span>standard_name :</span></dt><dd>latitude</dd><dt><span>step :</span></dt><dd>0.08333587646484375</dd><dt><span>unit_long :</span></dt><dd>Degrees North</dd><dt><span>units :</span></dt><dd>degrees_north</dd><dt><span>valid_max :</span></dt><dd>34.5</dd><dt><span>valid_min :</span></dt><dd>19.583334</dd></dl></div><div class='xr-var-data'><pre>array([19.583334, 19.666666, 19.75    , 19.833334, 19.916666, 20.      ,\n",
       "       20.083334, 20.166666, 20.25    , 20.333334, 20.416666, 20.5     ,\n",
       "       20.583334, 20.666666, 20.75    , 20.833334, 20.916666, 21.      ,\n",
       "       21.083334, 21.166666, 21.25    , 21.333334, 21.416666, 21.5     ,\n",
       "       21.583334, 21.666666, 21.75    , 21.833334, 21.916666, 22.      ,\n",
       "       22.083334, 22.166666, 22.25    , 22.333334, 22.416666, 22.5     ,\n",
       "       22.583334, 22.666666, 22.75    , 22.833334, 22.916666, 23.      ,\n",
       "       23.083334, 23.166666, 23.25    , 23.333334, 23.416666, 23.5     ,\n",
       "       23.583334, 23.666666, 23.75    , 23.833334, 23.916666, 24.      ,\n",
       "       24.083334, 24.166666, 24.25    , 24.333334, 24.416666, 24.5     ,\n",
       "       24.583334, 24.666666, 24.75    , 24.833334, 24.916666, 25.      ,\n",
       "       25.083334, 25.166666, 25.25    , 25.333334, 25.416666, 25.5     ,\n",
       "       25.583334, 25.666666, 25.75    , 25.833334, 25.916666, 26.      ,\n",
       "       26.083334, 26.166666, 26.25    , 26.333334, 26.416666, 26.5     ,\n",
       "       26.583334, 26.666666, 26.75    , 26.833334, 26.916666, 27.      ,\n",
       "       27.083334, 27.166666, 27.25    , 27.333334, 27.416666, 27.5     ,\n",
       "       27.583334, 27.666666, 27.75    , 27.833334, 27.916666, 28.      ,\n",
       "       28.083334, 28.166666, 28.25    , 28.333334, 28.416666, 28.5     ,\n",
       "       28.583334, 28.666666, 28.75    , 28.833334, 28.916666, 29.      ,\n",
       "       29.083334, 29.166666, 29.25    , 29.333334, 29.416666, 29.5     ,\n",
       "       29.583334, 29.666666, 29.75    , 29.833334, 29.916666, 30.      ,\n",
       "       30.083334, 30.166666, 30.25    , 30.333334, 30.416666, 30.5     ,\n",
       "       30.583334, 30.666666, 30.75    , 30.833334, 30.916666, 31.      ,\n",
       "       31.083334, 31.166666, 31.25    , 31.333334, 31.416666, 31.5     ,\n",
       "       31.583334, 31.666666, 31.75    , 31.833334, 31.916666, 32.      ,\n",
       "       32.083332, 32.166668, 32.25    , 32.333332, 32.416668, 32.5     ,\n",
       "       32.583332, 32.666668, 32.75    , 32.833332, 32.916668, 33.      ,\n",
       "       33.083332, 33.166668, 33.25    , 33.333332, 33.416668, 33.5     ,\n",
       "       33.583332, 33.666668, 33.75    , 33.833332, 33.916668, 34.      ,\n",
       "       34.083332, 34.166668, 34.25    , 34.333332, 34.416668, 34.5     ],\n",
       "      dtype=float32)</pre></div></li><li class='xr-var-item'><div class='xr-var-name'><span class='xr-has-index'>longitude</span></div><div class='xr-var-dims'>(longitude)</div><div class='xr-var-dtype'>float32</div><div class='xr-var-preview xr-preview'>-20.92 -20.83 ... -6.083 -6.0</div><input id='attrs-85b24245-2722-4b87-809a-7a0e3237e34c' class='xr-var-attrs-in' type='checkbox' ><label for='attrs-85b24245-2722-4b87-809a-7a0e3237e34c' title='Show/Hide attributes'><svg class='icon xr-icon-file-text2'><use xlink:href='#icon-file-text2'></use></svg></label><input id='data-a0f2ed68-dd70-409d-bd77-cba9608d2ffc' class='xr-var-data-in' type='checkbox'><label for='data-a0f2ed68-dd70-409d-bd77-cba9608d2ffc' title='Show/Hide data repr'><svg class='icon xr-icon-database'><use xlink:href='#icon-database'></use></svg></label><div class='xr-var-attrs'><dl class='xr-attrs'><dt><span>axis :</span></dt><dd>X</dd><dt><span>long_name :</span></dt><dd>Longitude</dd><dt><span>standard_name :</span></dt><dd>longitude</dd><dt><span>step :</span></dt><dd>0.0833282470703125</dd><dt><span>unit_long :</span></dt><dd>Degrees East</dd><dt><span>units :</span></dt><dd>degrees_east</dd><dt><span>valid_max :</span></dt><dd>-6.0</dd><dt><span>valid_min :</span></dt><dd>-20.916666</dd></dl></div><div class='xr-var-data'><pre>array([-20.916666, -20.833334, -20.75    , -20.666666, -20.583334, -20.5     ,\n",
       "       -20.416666, -20.333334, -20.25    , -20.166666, -20.083334, -20.      ,\n",
       "       -19.916666, -19.833334, -19.75    , -19.666666, -19.583334, -19.5     ,\n",
       "       -19.416666, -19.333334, -19.25    , -19.166666, -19.083334, -19.      ,\n",
       "       -18.916666, -18.833334, -18.75    , -18.666666, -18.583334, -18.5     ,\n",
       "       -18.416666, -18.333334, -18.25    , -18.166666, -18.083334, -18.      ,\n",
       "       -17.916666, -17.833334, -17.75    , -17.666666, -17.583334, -17.5     ,\n",
       "       -17.416666, -17.333334, -17.25    , -17.166666, -17.083334, -17.      ,\n",
       "       -16.916666, -16.833334, -16.75    , -16.666666, -16.583334, -16.5     ,\n",
       "       -16.416666, -16.333334, -16.25    , -16.166666, -16.083334, -16.      ,\n",
       "       -15.916667, -15.833333, -15.75    , -15.666667, -15.583333, -15.5     ,\n",
       "       -15.416667, -15.333333, -15.25    , -15.166667, -15.083333, -15.      ,\n",
       "       -14.916667, -14.833333, -14.75    , -14.666667, -14.583333, -14.5     ,\n",
       "       -14.416667, -14.333333, -14.25    , -14.166667, -14.083333, -14.      ,\n",
       "       -13.916667, -13.833333, -13.75    , -13.666667, -13.583333, -13.5     ,\n",
       "       -13.416667, -13.333333, -13.25    , -13.166667, -13.083333, -13.      ,\n",
       "       -12.916667, -12.833333, -12.75    , -12.666667, -12.583333, -12.5     ,\n",
       "       -12.416667, -12.333333, -12.25    , -12.166667, -12.083333, -12.      ,\n",
       "       -11.916667, -11.833333, -11.75    , -11.666667, -11.583333, -11.5     ,\n",
       "       -11.416667, -11.333333, -11.25    , -11.166667, -11.083333, -11.      ,\n",
       "       -10.916667, -10.833333, -10.75    , -10.666667, -10.583333, -10.5     ,\n",
       "       -10.416667, -10.333333, -10.25    , -10.166667, -10.083333, -10.      ,\n",
       "        -9.916667,  -9.833333,  -9.75    ,  -9.666667,  -9.583333,  -9.5     ,\n",
       "        -9.416667,  -9.333333,  -9.25    ,  -9.166667,  -9.083333,  -9.      ,\n",
       "        -8.916667,  -8.833333,  -8.75    ,  -8.666667,  -8.583333,  -8.5     ,\n",
       "        -8.416667,  -8.333333,  -8.25    ,  -8.166667,  -8.083333,  -8.      ,\n",
       "        -7.916667,  -7.833333,  -7.75    ,  -7.666667,  -7.583333,  -7.5     ,\n",
       "        -7.416667,  -7.333333,  -7.25    ,  -7.166667,  -7.083333,  -7.      ,\n",
       "        -6.916667,  -6.833333,  -6.75    ,  -6.666667,  -6.583333,  -6.5     ,\n",
       "        -6.416667,  -6.333333,  -6.25    ,  -6.166667,  -6.083333,  -6.      ],\n",
       "      dtype=float32)</pre></div></li><li class='xr-var-item'><div class='xr-var-name'><span class='xr-has-index'>time</span></div><div class='xr-var-dims'>(time)</div><div class='xr-var-dtype'>datetime64[ns]</div><div class='xr-var-preview xr-preview'>2014-01-01 ... 2014-01-30</div><input id='attrs-67077329-dd09-4010-8d81-4fea1da26014' class='xr-var-attrs-in' type='checkbox' ><label for='attrs-67077329-dd09-4010-8d81-4fea1da26014' title='Show/Hide attributes'><svg class='icon xr-icon-file-text2'><use xlink:href='#icon-file-text2'></use></svg></label><input id='data-af34ff23-4d84-4390-8b72-b7ed97075f0c' class='xr-var-data-in' type='checkbox'><label for='data-af34ff23-4d84-4390-8b72-b7ed97075f0c' title='Show/Hide data repr'><svg class='icon xr-icon-database'><use xlink:href='#icon-database'></use></svg></label><div class='xr-var-attrs'><dl class='xr-attrs'><dt><span>valid_min :</span></dt><dd>561024</dd><dt><span>valid_max :</span></dt><dd>622392</dd></dl></div><div class='xr-var-data'><pre>array([&#x27;2014-01-01T00:00:00.000000000&#x27;, &#x27;2014-01-02T00:00:00.000000000&#x27;,\n",
       "       &#x27;2014-01-03T00:00:00.000000000&#x27;, &#x27;2014-01-04T00:00:00.000000000&#x27;,\n",
       "       &#x27;2014-01-05T00:00:00.000000000&#x27;, &#x27;2014-01-06T00:00:00.000000000&#x27;,\n",
       "       &#x27;2014-01-07T00:00:00.000000000&#x27;, &#x27;2014-01-08T00:00:00.000000000&#x27;,\n",
       "       &#x27;2014-01-09T00:00:00.000000000&#x27;, &#x27;2014-01-10T00:00:00.000000000&#x27;,\n",
       "       &#x27;2014-01-11T00:00:00.000000000&#x27;, &#x27;2014-01-12T00:00:00.000000000&#x27;,\n",
       "       &#x27;2014-01-13T00:00:00.000000000&#x27;, &#x27;2014-01-14T00:00:00.000000000&#x27;,\n",
       "       &#x27;2014-01-15T00:00:00.000000000&#x27;, &#x27;2014-01-16T00:00:00.000000000&#x27;,\n",
       "       &#x27;2014-01-17T00:00:00.000000000&#x27;, &#x27;2014-01-18T00:00:00.000000000&#x27;,\n",
       "       &#x27;2014-01-19T00:00:00.000000000&#x27;, &#x27;2014-01-20T00:00:00.000000000&#x27;,\n",
       "       &#x27;2014-01-21T00:00:00.000000000&#x27;, &#x27;2014-01-22T00:00:00.000000000&#x27;,\n",
       "       &#x27;2014-01-23T00:00:00.000000000&#x27;, &#x27;2014-01-24T00:00:00.000000000&#x27;,\n",
       "       &#x27;2014-01-25T00:00:00.000000000&#x27;, &#x27;2014-01-26T00:00:00.000000000&#x27;,\n",
       "       &#x27;2014-01-27T00:00:00.000000000&#x27;, &#x27;2014-01-28T00:00:00.000000000&#x27;,\n",
       "       &#x27;2014-01-29T00:00:00.000000000&#x27;, &#x27;2014-01-30T00:00:00.000000000&#x27;],\n",
       "      dtype=&#x27;datetime64[ns]&#x27;)</pre></div></li></ul></div></li><li class='xr-section-item'><input id='section-8a826998-310c-4985-b609-9f48bb50e16f' class='xr-section-summary-in' type='checkbox'  checked><label for='section-8a826998-310c-4985-b609-9f48bb50e16f' class='xr-section-summary' >Data variables: <span>(1)</span></label><div class='xr-section-inline-details'></div><div class='xr-section-details'><ul class='xr-var-list'><li class='xr-var-item'><div class='xr-var-name'><span>thetao</span></div><div class='xr-var-dims'>(time, depth, latitude, longitude)</div><div class='xr-var-dtype'>float64</div><div class='xr-var-preview xr-preview'>...</div><input id='attrs-825716ca-9481-4f08-bd87-203ddb9b106e' class='xr-var-attrs-in' type='checkbox' disabled><label for='attrs-825716ca-9481-4f08-bd87-203ddb9b106e' title='Show/Hide attributes'><svg class='icon xr-icon-file-text2'><use xlink:href='#icon-file-text2'></use></svg></label><input id='data-6c4e2e73-3d01-4334-a022-3156369917b2' class='xr-var-data-in' type='checkbox'><label for='data-6c4e2e73-3d01-4334-a022-3156369917b2' title='Show/Hide data repr'><svg class='icon xr-icon-database'><use xlink:href='#icon-database'></use></svg></label><div class='xr-var-attrs'><dl class='xr-attrs'></dl></div><div class='xr-var-data'><pre>[47628000 values with dtype=float64]</pre></div></li></ul></div></li><li class='xr-section-item'><input id='section-44b232ba-54a2-4acc-920c-2e429ec740dc' class='xr-section-summary-in' type='checkbox'  ><label for='section-44b232ba-54a2-4acc-920c-2e429ec740dc' class='xr-section-summary' >Indexes: <span>(4)</span></label><div class='xr-section-inline-details'></div><div class='xr-section-details'><ul class='xr-var-list'><li class='xr-var-item'><div class='xr-index-name'><div>depth</div></div><div class='xr-index-preview'>PandasIndex</div><div></div><input id='index-41bacdb8-258c-4046-bf1c-29e78a08de85' class='xr-index-data-in' type='checkbox'/><label for='index-41bacdb8-258c-4046-bf1c-29e78a08de85' title='Show/Hide index repr'><svg class='icon xr-icon-database'><use xlink:href='#icon-database'></use></svg></label><div class='xr-index-data'><pre>PandasIndex(Index([0.49402499198913574,  1.5413750410079956,  2.6456689834594727,\n",
       "        3.8194949626922607,   5.078224182128906,   6.440614223480225,\n",
       "          7.92956018447876,   9.572997093200684,  11.404999732971191,\n",
       "        13.467140197753906,  15.810070037841797,  18.495559692382812,\n",
       "        21.598819732666016,  25.211410522460938,  29.444730758666992,\n",
       "         34.43415069580078,  40.344051361083984,   47.37369155883789,\n",
       "         55.76428985595703,   65.80726623535156,   77.85385131835938,\n",
       "          92.3260726928711,  109.72930145263672,  130.66600036621094,\n",
       "        155.85069274902344,  186.12559509277344,  222.47520446777344,\n",
       "         266.0403137207031,   318.1274108886719,   380.2130126953125,\n",
       "         453.9377136230469,   541.0889282226562,   643.5667724609375,\n",
       "         763.3331298828125,   902.3392944335938,    1062.43994140625,\n",
       "            1245.291015625,     1452.2509765625,  1684.2840576171875,\n",
       "        1941.8929443359375,   2225.077880859375,        2533.3359375,\n",
       "         2865.702880859375,   3220.820068359375,   3597.031982421875,\n",
       "          3992.48388671875,    4405.22412109375,      4833.291015625,\n",
       "           5274.7841796875],\n",
       "      dtype=&#x27;float32&#x27;, name=&#x27;depth&#x27;))</pre></div></li><li class='xr-var-item'><div class='xr-index-name'><div>latitude</div></div><div class='xr-index-preview'>PandasIndex</div><div></div><input id='index-9923c1d2-ca3f-4a67-8453-01d3f4332c63' class='xr-index-data-in' type='checkbox'/><label for='index-9923c1d2-ca3f-4a67-8453-01d3f4332c63' title='Show/Hide index repr'><svg class='icon xr-icon-database'><use xlink:href='#icon-database'></use></svg></label><div class='xr-index-data'><pre>PandasIndex(Index([19.58333396911621, 19.66666603088379,             19.75,\n",
       "       19.83333396911621, 19.91666603088379,              20.0,\n",
       "       20.08333396911621, 20.16666603088379,             20.25,\n",
       "       20.33333396911621,\n",
       "       ...\n",
       "                   33.75, 33.83333206176758, 33.91666793823242,\n",
       "                    34.0, 34.08333206176758, 34.16666793823242,\n",
       "                   34.25, 34.33333206176758, 34.41666793823242,\n",
       "                    34.5],\n",
       "      dtype=&#x27;float32&#x27;, name=&#x27;latitude&#x27;, length=180))</pre></div></li><li class='xr-var-item'><div class='xr-index-name'><div>longitude</div></div><div class='xr-index-preview'>PandasIndex</div><div></div><input id='index-7a87ac61-e82b-4c3f-b3e8-d2f96b3732c7' class='xr-index-data-in' type='checkbox'/><label for='index-7a87ac61-e82b-4c3f-b3e8-d2f96b3732c7' title='Show/Hide index repr'><svg class='icon xr-icon-database'><use xlink:href='#icon-database'></use></svg></label><div class='xr-index-data'><pre>PandasIndex(Index([-20.91666603088379, -20.83333396911621,             -20.75,\n",
       "       -20.66666603088379, -20.58333396911621,              -20.5,\n",
       "       -20.41666603088379, -20.33333396911621,             -20.25,\n",
       "       -20.16666603088379,\n",
       "       ...\n",
       "                    -6.75, -6.666666507720947, -6.583333492279053,\n",
       "                     -6.5, -6.416666507720947, -6.333333492279053,\n",
       "                    -6.25, -6.166666507720947, -6.083333492279053,\n",
       "                     -6.0],\n",
       "      dtype=&#x27;float32&#x27;, name=&#x27;longitude&#x27;, length=180))</pre></div></li><li class='xr-var-item'><div class='xr-index-name'><div>time</div></div><div class='xr-index-preview'>PandasIndex</div><div></div><input id='index-0bbc0d41-d303-4bbe-b2cf-b8f29e687f24' class='xr-index-data-in' type='checkbox'/><label for='index-0bbc0d41-d303-4bbe-b2cf-b8f29e687f24' title='Show/Hide index repr'><svg class='icon xr-icon-database'><use xlink:href='#icon-database'></use></svg></label><div class='xr-index-data'><pre>PandasIndex(DatetimeIndex([&#x27;2014-01-01&#x27;, &#x27;2014-01-02&#x27;, &#x27;2014-01-03&#x27;, &#x27;2014-01-04&#x27;,\n",
       "               &#x27;2014-01-05&#x27;, &#x27;2014-01-06&#x27;, &#x27;2014-01-07&#x27;, &#x27;2014-01-08&#x27;,\n",
       "               &#x27;2014-01-09&#x27;, &#x27;2014-01-10&#x27;, &#x27;2014-01-11&#x27;, &#x27;2014-01-12&#x27;,\n",
       "               &#x27;2014-01-13&#x27;, &#x27;2014-01-14&#x27;, &#x27;2014-01-15&#x27;, &#x27;2014-01-16&#x27;,\n",
       "               &#x27;2014-01-17&#x27;, &#x27;2014-01-18&#x27;, &#x27;2014-01-19&#x27;, &#x27;2014-01-20&#x27;,\n",
       "               &#x27;2014-01-21&#x27;, &#x27;2014-01-22&#x27;, &#x27;2014-01-23&#x27;, &#x27;2014-01-24&#x27;,\n",
       "               &#x27;2014-01-25&#x27;, &#x27;2014-01-26&#x27;, &#x27;2014-01-27&#x27;, &#x27;2014-01-28&#x27;,\n",
       "               &#x27;2014-01-29&#x27;, &#x27;2014-01-30&#x27;],\n",
       "              dtype=&#x27;datetime64[ns]&#x27;, name=&#x27;time&#x27;, freq=None))</pre></div></li></ul></div></li><li class='xr-section-item'><input id='section-e48caeaa-8e4e-4864-8ae5-eff3501786b3' class='xr-section-summary-in' type='checkbox'  ><label for='section-e48caeaa-8e4e-4864-8ae5-eff3501786b3' class='xr-section-summary' >Attributes: <span>(25)</span></label><div class='xr-section-inline-details'></div><div class='xr-section-details'><dl class='xr-attrs'><dt><span>Conventions :</span></dt><dd>CF-1.4</dd><dt><span>bulletin_date :</span></dt><dd>2021-07-07 00:00:00</dd><dt><span>bulletin_type :</span></dt><dd>operational</dd><dt><span>comment :</span></dt><dd>CMEMS product</dd><dt><span>domain_name :</span></dt><dd>GL12</dd><dt><span>easting :</span></dt><dd>longitude</dd><dt><span>field_date :</span></dt><dd>2021-06-30 00:00:00</dd><dt><span>field_julian_date :</span></dt><dd>26113.0</dd><dt><span>field_type :</span></dt><dd>mean</dd><dt><span>forecast_range :</span></dt><dd></dd><dt><span>forecast_type :</span></dt><dd></dd><dt><span>history :</span></dt><dd>2023/06/01 16:20:05 MERCATOR OCEAN Netcdf creation</dd><dt><span>institution :</span></dt><dd>MERCATOR OCEAN</dd><dt><span>julian_day_unit :</span></dt><dd>days since 1950-01-01 00:00:00</dd><dt><span>latitude_max :</span></dt><dd>90.0</dd><dt><span>latitude_min :</span></dt><dd>-80.0</dd><dt><span>longitude_max :</span></dt><dd>179.9166717529297</dd><dt><span>longitude_min :</span></dt><dd>-180.0</dd><dt><span>northing :</span></dt><dd>latitude</dd><dt><span>references :</span></dt><dd>http://www.mercator-ocean.fr</dd><dt><span>source :</span></dt><dd>MERCATOR GLORYS12V1</dd><dt><span>title :</span></dt><dd>daily mean fields from Global Ocean Physics Analysis and Forecast updated Daily</dd><dt><span>z_max :</span></dt><dd>5727.9169921875</dd><dt><span>z_min :</span></dt><dd>0.49402499198913574</dd><dt><span>copernicusmarine_version :</span></dt><dd>1.3.3</dd></dl></div></li></ul></div></div>"
      ],
      "text/plain": [
       "<xarray.Dataset> Size: 381MB\n",
       "Dimensions:    (depth: 49, latitude: 180, longitude: 180, time: 30)\n",
       "Coordinates:\n",
       "  * depth      (depth) float32 196B 0.494 1.541 2.646 ... 4.833e+03 5.275e+03\n",
       "  * latitude   (latitude) float32 720B 19.58 19.67 19.75 ... 34.33 34.42 34.5\n",
       "  * longitude  (longitude) float32 720B -20.92 -20.83 -20.75 ... -6.083 -6.0\n",
       "  * time       (time) datetime64[ns] 240B 2014-01-01 2014-01-02 ... 2014-01-30\n",
       "Data variables:\n",
       "    thetao     (time, depth, latitude, longitude) float64 381MB ...\n",
       "Attributes: (12/25)\n",
       "    Conventions:               CF-1.4\n",
       "    bulletin_date:             2021-07-07 00:00:00\n",
       "    bulletin_type:             operational\n",
       "    comment:                   CMEMS product\n",
       "    domain_name:               GL12\n",
       "    easting:                   longitude\n",
       "    ...                        ...\n",
       "    references:                http://www.mercator-ocean.fr\n",
       "    source:                    MERCATOR GLORYS12V1\n",
       "    title:                     daily mean fields from Global Ocean Physics An...\n",
       "    z_max:                     5727.9169921875\n",
       "    z_min:                     0.49402499198913574\n",
       "    copernicusmarine_version:  1.3.3"
      ]
     },
     "execution_count": 4,
     "metadata": {},
     "output_type": "execute_result"
    }
   ],
   "source": [
    "import random\n",
    "from datetime import datetime\n",
    "\n",
    "import matplotlib.pyplot as plt\n",
    "import numpy as np\n",
    "import torch\n",
    "import torch.optim as optim\n",
    "from torch.amp import autocast, GradScaler\n",
    "from torch.utils.data import DataLoader, Dataset\n",
    "import xarray as xr\n",
    "from tqdm import tqdm\n",
    "from typing import List, Tuple\n",
    "\n",
    "from aurora import Aurora, Batch, Metadata, normalisation, rollout\n",
    "\n",
    "\n",
    "\n",
    "#dataset = xr.open_dataset(\"/Users/victormedina/Desktop/cmems_preprocessed_oceanographic_data.nc\", engine=\"netcdf4\")\n",
    "#dataset = xr.open_dataset(\"D://Aaron///cmems_mod_glo_phy_my_0.083deg_P1D-m_v1_little.nc\")\n",
    "dataset = xr.open_dataset(\"D://Aaron//cmems_mod_glo_phy_my_0.083deg_P1D-m_6years_thetao_v3.nc\").isel(time=slice(0,30))\n",
    "#dataset = xr.open_dataset(\"/Users/victormedina/Desktop/TFG/Datos/cmems_mod_glo_phy_my_0.083deg_P1D-m_v1.nc\", engine=\"netcdf4\") #dataset de 3 dias\n",
    "#dataset = xr.open_dataset(\"/Users/victormedina/Desktop/TFG/Datos/cmems_mod_glo_phy_my_0.083deg_P1D-m.nc\", engine=\"netcdf4\") #dataset de 3 años que solo ejecuta en pc grande\n",
    "dataset\n",
    "\n",
    "\n"
   ]
  },
  {
   "cell_type": "code",
   "execution_count": 5,
   "metadata": {},
   "outputs": [],
   "source": [
    "device = torch.device(\"cuda\" if torch.cuda.is_available() else \"cpu\")"
   ]
  },
  {
   "cell_type": "code",
   "execution_count": 6,
   "metadata": {},
   "outputs": [],
   "source": [
    "#importar variable \n",
    "lsm=xr.open_dataset(\"D://Aaron//datos_mascara.nc\") "
   ]
  },
  {
   "cell_type": "code",
   "execution_count": 7,
   "metadata": {},
   "outputs": [],
   "source": [
    "\n",
    "variables = ['thetao']  # Solo 'thetao'\n",
    "dataset = dataset[variables]\n",
    "\n",
    "# Filtrar por la profundidad (limitando el número de niveles de profundidad)\n",
    "N = 10 #en 10 debe de estar,cambiando a menos dura mes el entreno pero peta\n",
    "dataset = dataset.isel(depth=slice(0, N)) #voy a probar a coger todas\n",
    "ocean_levels = dataset['depth'].values\n",
    "\n",
    "# Ajustar las longitudes para que coincidan en rango (de -180 a 180) y latitudes para interpolación\n",
    "lsm_copy = lsm.copy()\n",
    "lsm_copy = lsm_copy.assign_coords(longitude=(((lsm_copy.longitude + 180) % 360) - 180))\n",
    "\n",
    "# Interpolar la variable lsm para que coincida con la resolución del dataset\n",
    "lsm_interp = lsm_copy.interp(latitude=dataset.latitude, longitude=dataset.longitude, method=\"nearest\")\n",
    "\n",
    "# Asignar la variable lsm al dataset, reemplazando los NaNs con ceros para evitar problemas\n",
    "lsm_interp_clean = lsm_interp.fillna(0)  # Reemplazar los NaNs por ceros\n",
    "dataset = dataset.assign(lsm=lsm_interp_clean['lsm'])\n",
    "\n",
    "\n",
    "\n",
    "# Rellenar los valores NaN con la media de la variable\n",
    "def fill_nan_with_mean(var: xr.DataArray) -> xr.DataArray:\n",
    "    if var.isnull().any():\n",
    "        return var.fillna(var.mean())\n",
    "    else:\n",
    "        return var\n",
    "\n",
    "for var in variables:\n",
    "    dataset[var] = fill_nan_with_mean(dataset[var])\n",
    "\n",
    "# Verificar las latitudes para asegurar que están en el orden correcto y dentro del rango adecuado\n",
    "def check_latitudes(dataset: xr.Dataset) -> xr.Dataset:\n",
    "    \"\"\"\n",
    "    Verifica y ajusta las latitudes del dataset para asegurar que estén en orden correcto y sin problemas.\n",
    "\n",
    "    Args:\n",
    "        dataset (xr.Dataset): Dataset que contiene la información de latitudes.\n",
    "\n",
    "    Returns:\n",
    "        xr.Dataset: Dataset con las latitudes verificadas y reordenadas si es necesario.\n",
    "    \"\"\"   \n",
    "    latitude = dataset['latitude'].values\n",
    "    is_strictly_decreasing = np.all(np.diff(latitude) < 0)\n",
    "    if not (np.all(latitude <= 90) and np.all(latitude >= -90)):\n",
    "        raise ValueError(\"Algunos valores de latitud están fuera del rango [-90, 90]. Por favor, corrígelos.\")\n",
    "    if not is_strictly_decreasing:\n",
    "        dataset = dataset.sortby('latitude', ascending=False)\n",
    "    return dataset\n",
    "\n",
    "# Ajustar las longitudes para que estén dentro del rango [0,360]\n",
    "def check_longitudes(dataset: xr.Dataset) -> xr.Dataset:\n",
    "    \"\"\"\n",
    "    Verifica y ajusta las longitudes del dataset para asegurar que estén dentro del rango [0,360].\n",
    "\n",
    "    Args:\n",
    "        dataset (xr.Dataset): Dataset que contiene la información de longitudes.\n",
    "\n",
    "    Returns:\n",
    "        xr.Dataset: Dataset con las longitudes ajustadas sumándoles 360 a todas.\n",
    "    \"\"\"\n",
    "    longitude = dataset['longitude'].values\n",
    "    \n",
    "    longitude = longitude + 360\n",
    "    \n",
    "    dataset = dataset.assign_coords(longitude=longitude)\n",
    "    \n",
    "    return dataset\n",
    "\n",
    "# Llamar a las funciones para verificar las latitudes y longitudes\n",
    "dataset = check_latitudes(dataset)\n",
    "dataset = check_longitudes(dataset)\n",
    "\n",
    "\n",
    "latitude = torch.from_numpy(dataset['latitude'].values).float().to(device)\n",
    "longitude = torch.from_numpy(dataset['longitude'].values).float().to(device)\n",
    "# Revisar si hay valores NaN restantes después de la interpolación\n",
    "dataset = dataset.dropna(dim=\"latitude\", how=\"all\").dropna(dim=\"longitude\", how=\"all\")\n",
    "\n"
   ]
  },
  {
   "cell_type": "code",
   "execution_count": 8,
   "metadata": {},
   "outputs": [],
   "source": [
    "# Definir funciones para cargar datos\n",
    "def load_ocean_surface(v: str, sample_sets: list) -> Tuple[torch.Tensor, torch.Tensor]:\n",
    "    \"\"\"\n",
    "    Carga los datos de variables de superficie para un conjunto de muestras.\n",
    "\n",
    "    Args:\n",
    "        v (str): Nombre de la variable.\n",
    "        sample_sets (list): Lista de conjuntos de datos de muestra.\n",
    "\n",
    "    Returns:\n",
    "        Tuple[torch.Tensor, torch.Tensor]: Datos y targets concatenados de la variable de superficie.\n",
    "    \"\"\"\n",
    "    data_list = []\n",
    "    target_list = []\n",
    "    for sample_set in sample_sets:\n",
    "        sel_dict = {}\n",
    "        if 'depth' in sample_set[v].dims:\n",
    "            sel_dict['depth'] = 0  # Seleccionar nivel superficial\n",
    "        data = sample_set[v].isel(**sel_dict).isel(time=slice(0, 2)).values  # (time, lat, lon)\n",
    "        data_tensor = torch.from_numpy(data).float()  # (time, lat, lon)\n",
    "        data_list.append(data_tensor)\n",
    "\n",
    "        target = sample_set[v].isel(**sel_dict).isel(time=slice(2,None)).values  # (lat, lon)\n",
    "        target_tensor = torch.from_numpy(target).float()  # (lat, lon)\n",
    "\n",
    "\n",
    "        target_list.append(target_tensor)\n",
    "\n",
    "    # Concatenar los datos a lo largo de la dimensión batch (nueva dimensión 0)\n",
    "    data_batch = torch.stack(data_list, dim=0)    # (batch_size, time, lat, lon)\n",
    "    target_batch = torch.stack(target_list, dim=0)  # (batch_size, 1, lat, lon)\n",
    "\n",
    "    return data_batch, target_batch\n",
    "\n",
    "\n",
    "\n",
    "\n",
    "def load_ocean_atmos(v: str, sample_sets: list) -> Tuple[torch.Tensor, torch.Tensor]:\n",
    "    \"\"\"\n",
    "    Carga los datos de variables atmosféricas para un conjunto de muestras.\n",
    "\n",
    "    Args:\n",
    "        v (str): Nombre de la variable.\n",
    "        sample_sets (list): Lista de conjuntos de datos de muestra.\n",
    "\n",
    "    Returns:\n",
    "        Tuple[torch.Tensor, torch.Tensor]: Datos y targets concatenados de la variable atmosférica.\n",
    "    \"\"\"\n",
    "    data_list = []\n",
    "    target_list = []\n",
    "    for sample_set in sample_sets:\n",
    "        sel_dict = {'depth': slice(0, 10)}  # Seleccionar los primeros N niveles de profundidad\n",
    "        data = sample_set[v].isel(**sel_dict).isel(time=slice(0, 2)).values  # (time, depth, lat, lon)\n",
    "        data_tensor = torch.from_numpy(data).float()  # (time, depth, lat, lon)\n",
    "        data_list.append(data_tensor)\n",
    "\n",
    "        target = sample_set[v].isel(**sel_dict).isel(time=slice(2,None)).values  # (depth, lat, lon)\n",
    "        target_tensor = torch.from_numpy(target).float()  # (depth, lat, lon)\n",
    "        target_list.append(target_tensor)\n",
    "\n",
    "    # Concatenar los datos a lo largo de la dimensión batch\n",
    "    data_batch = torch.stack(data_list, dim=0)  # (batch_size, time, depth, lat, lon)\n",
    "    target_batch = torch.stack(target_list, dim=0)  # (batch_size, depth, lat, lon)\n",
    "\n",
    "    return data_batch, target_batch\n",
    "\n",
    "\n",
    "\n",
    "def load_static_var(v: str, sample_sets: list) -> torch.Tensor:\n",
    "    \"\"\"\n",
    "    Carga una variable estática del dataset.\n",
    "\n",
    "    Args:\n",
    "        v (str): Nombre de la variable.\n",
    "        sample_sets (list): Lista de conjuntos de datos de muestra.\n",
    "\n",
    "    Returns:\n",
    "        torch.Tensor: Tensor con los datos de la variable estática (lat, lon).\n",
    "    \"\"\"\n",
    "    # Since static variables are the same across the batch, we can take from the first sample\n",
    "    sample_set = sample_sets[0]\n",
    "    data_var = sample_set[v]\n",
    "    dims_to_drop = [dim for dim in data_var.dims if dim not in ('latitude', 'longitude')]\n",
    "    data_var = data_var.isel({dim: 0 for dim in dims_to_drop})\n",
    "    data = data_var.values  # Should be (lat, lon)\n",
    "    data_tensor = torch.from_numpy(data).float()\n",
    "\n",
    "    return data_tensor  # Shape: (lat, lon)\n",
    "\n"
   ]
  },
  {
   "cell_type": "code",
   "execution_count": 9,
   "metadata": {},
   "outputs": [
    {
     "name": "stdout",
     "output_type": "stream",
     "text": [
      "Modelo Aurora cargado y ajustado exitosamente.\n"
     ]
    }
   ],
   "source": [
    "\n",
    "surf_vars: tuple[str, ...] = ('thetao',)\n",
    "static_vars: tuple[str, ...] = ('lsm',)\n",
    "atmos_vars: tuple[str, ...] = ('thetao',)\n",
    "\n",
    "# Crear el modelo Aurora y moverlo al dispositivo\n",
    "model = Aurora(surf_vars=surf_vars, static_vars=static_vars, atmos_vars=atmos_vars, use_lora=True).to(device)\n",
    "model.load_checkpoint(\"microsoft/aurora\", \"aurora-0.25-pretrained.ckpt\", strict=False)\n",
    "print(\"Modelo Aurora cargado y ajustado exitosamente.\") \n"
   ]
  },
  {
   "cell_type": "code",
   "execution_count": 10,
   "metadata": {},
   "outputs": [],
   "source": [
    "num_times = len(dataset['time'])\n",
    "\n",
    "# Definir proporciones asegurando tamaños mínimos\n",
    "sample_size = 3  # Tamaño de muestra\n",
    "\n",
    "train_size = int(num_times * 0.7)\n",
    "test_size = sample_size + 1  \n",
    "val_size = num_times - train_size - test_size\n",
    "\n",
    "# Si val_size es menor que sample_size + 1, ajustar train_size\n",
    "if val_size < sample_size + 1:\n",
    "    train_size -= (sample_size + 1 - val_size)\n",
    "    val_size = sample_size + 1\n",
    "\n",
    "# Dividir el conjunto de datos\n",
    "train_dataset = dataset.isel(time=slice(0, train_size))\n",
    "val_dataset = dataset.isel(time=slice(train_size, train_size + val_size))\n",
    "test_dataset = dataset.isel(time=slice(train_size + val_size, num_times))"
   ]
  },
  {
   "cell_type": "code",
   "execution_count": 11,
   "metadata": {},
   "outputs": [
    {
     "name": "stdout",
     "output_type": "stream",
     "text": [
      "Variable  thetao  actualizadas exitosamente con el conjunto de entrenamiento.\n"
     ]
    }
   ],
   "source": [
    "train_ocean_levels = train_dataset['depth'].values\n",
    "\n",
    "# Normalización para thetao en los niveles oceánicos\n",
    "for level in train_ocean_levels:\n",
    "    level_str = f\"{level}\"\n",
    "    var = \"thetao\"\n",
    "    data = train_dataset[var].sel(depth=level).values\n",
    "    mean = np.nanmean(data)\n",
    "    std = np.nanstd(data)\n",
    "    normalisation.locations[f\"{var}_{level_str}\"] = mean\n",
    "    normalisation.scales[f\"{var}_{level_str}\"] = std\n",
    "\n",
    "# Normalización para thetao en la superficie\n",
    "surface_vars = [\"thetao\"]\n",
    "for var in surface_vars:\n",
    "    if 'depth' in train_dataset[var].dims:\n",
    "        data = train_dataset[var].isel(depth=0).values\n",
    "    else:\n",
    "        data = train_dataset[var].values\n",
    "    mean = np.nanmean(data)\n",
    "    std = np.nanstd(data)\n",
    "    normalisation.locations[var] = mean\n",
    "    normalisation.scales[var] = std\n",
    "\n",
    "print(\"Variable  thetao  actualizadas exitosamente con el conjunto de entrenamiento.\")\n",
    "\n"
   ]
  },
  {
   "cell_type": "code",
   "execution_count": 12,
   "metadata": {},
   "outputs": [],
   "source": [
    "class BatchGenerator:\n",
    "    def __init__(self, dataset: xr.Dataset, sample_size: int, batch_size: int, shuffle: bool = True, padding: bool = True):\n",
    "        \"\"\"\n",
    "        Inicializa el BatchGenerator.\n",
    "\n",
    "        Args:\n",
    "            dataset (xr.Dataset): El conjunto de datos.\n",
    "            sample_size (int): Tamaño de cada ventana deslizante.\n",
    "            batch_size (int): Tamaño de cada batch.\n",
    "            shuffle (bool): Si se deben barajar las muestras.\n",
    "            padding (bool): Si se debe aplicar padding al último batch.\n",
    "        \"\"\"\n",
    "        self.dataset = dataset\n",
    "        self.sample_size = sample_size\n",
    "        self.batch_size = batch_size\n",
    "        self.shuffle = shuffle\n",
    "        self.padding = padding\n",
    "        self.samples = self.generate_sliding_windows()\n",
    "        if self.shuffle:\n",
    "            self.samples = self.shuffle_samples()\n",
    "\n",
    "    def generate_sliding_windows(self):\n",
    "        \"\"\"\n",
    "        Genera ventanas deslizantes sobre el eje temporal del dataset.\n",
    "\n",
    "        Returns:\n",
    "            list: Lista de muestras generadas mediante ventanas deslizantes.\n",
    "        \"\"\"\n",
    "        window_size = self.sample_size\n",
    "        windows = [slice(i, i + window_size) for i in range(0, len(self.dataset.time) - window_size + 1)]\n",
    "        samples = [self.dataset.isel(time=w) for w in windows]\n",
    "        return samples\n",
    "\n",
    "    def shuffle_samples(self):\n",
    "        \"\"\"\n",
    "        Baraja las muestras generadas.\n",
    "\n",
    "        Returns:\n",
    "            list: Lista de muestras barajadas.\n",
    "        \"\"\"\n",
    "        samples_copy = self.samples.copy()\n",
    "        np.random.shuffle(samples_copy)\n",
    "        return samples_copy\n",
    "\n",
    "    def load_ocean_batch(self, sample_sets):\n",
    "        \"\"\"\n",
    "    Carga un batch de datos a partir de un conjunto de muestras.\n",
    "\n",
    "    Args:\n",
    "        sample_sets (list): Lista de conjuntos de datos de muestra.\n",
    "\n",
    "    Returns:\n",
    "        Tuple[Batch, Batch]: Batch de datos y batch de targets.\n",
    "        \"\"\"\n",
    "        is_padding = any(sample.attrs.get('is_padding', False) for sample in sample_sets)\n",
    "\n",
    "    # Llamar a las funciones de carga modificadas\n",
    "        surf_data, surf_target = load_ocean_surface(\"thetao\", sample_sets)\n",
    "        atmos_data, atmos_target = load_ocean_atmos(\"thetao\", sample_sets)\n",
    "        static_data = load_static_var(\"lsm\", sample_sets).to(device)\n",
    "\n",
    "        times = [\n",
    "            sample_set['time'].values[-1].astype('datetime64[s]').astype(datetime)\n",
    "            for sample_set in sample_sets\n",
    "        ]\n",
    "    # Crear instancia de Batch para el batch completo\n",
    "        batch = Batch(\n",
    "            surf_vars={\n",
    "                \"thetao\": surf_data,\n",
    "            },\n",
    "            static_vars={\n",
    "                \"lsm\": static_data,\n",
    "            },\n",
    "            atmos_vars={\n",
    "                \"thetao\": atmos_data,\n",
    "            },\n",
    "            metadata=Metadata(\n",
    "                lat=latitude,\n",
    "                lon=longitude,\n",
    "                time=times,\n",
    "                atmos_levels=ocean_levels,\n",
    "            )\n",
    "        )\n",
    "        batch.metadata.is_padding = is_padding\n",
    "\n",
    "        batch_target = Batch(\n",
    "            surf_vars={\n",
    "                \"thetao\": surf_target,\n",
    "            },\n",
    "            static_vars={\n",
    "             \"lsm\": static_data,  # Asumimos que los static_vars son iguales para data y target\n",
    "            },\n",
    "            atmos_vars={\n",
    "                \"thetao\": atmos_target,\n",
    "            },\n",
    "            metadata=Metadata(\n",
    "                lat=latitude,\n",
    "                lon=longitude,\n",
    "                time=times,\n",
    "                atmos_levels=ocean_levels,\n",
    "            )\n",
    "        )\n",
    "        batch_target.metadata.is_padding = is_padding\n",
    "\n",
    "        return batch, batch_target\n",
    "\n",
    "\n",
    "    def __iter__(self):\n",
    "        \"\"\"\n",
    "        Iterador que genera batches de datos.\n",
    "\n",
    "        Yields:\n",
    "            Tuple[list, list]: Batch de datos y batch de targets.\n",
    "        \"\"\"\n",
    "        # Dividimos las muestras en batches\n",
    "        for i in range(0, len(self.samples), self.batch_size):\n",
    "            batch_samples = self.samples[i:i + self.batch_size]\n",
    "\n",
    "            # Aplicamos padding si es necesario\n",
    "            if len(batch_samples) < self.batch_size and self.padding:\n",
    "                num_padding = self.batch_size - len(batch_samples)\n",
    "                for _ in range(num_padding):\n",
    "                    sample = self.samples[i % len(self.samples)]\n",
    "                    sample = sample.copy()\n",
    "                    sample.attrs['is_padding'] = True\n",
    "                    batch_samples.append(sample)\n",
    "\n",
    "            batch, batch_target = self.load_ocean_batch(batch_samples)\n",
    "            yield batch, batch_target\n"
   ]
  },
  {
   "cell_type": "markdown",
   "metadata": {},
   "source": [
    "### Configuración del Optimizador y Criterios de Pérdida"
   ]
  },
  {
   "cell_type": "code",
   "execution_count": 10,
   "metadata": {},
   "outputs": [],
   "source": [
    "import torch\n",
    "import torch.optim as optim\n",
    "\n",
    "# Cambiar el optimizador a AdamW, recomendado en el paper\n",
    "optimizer = optim.AdamW(model.parameters(), lr=1e-4)\n",
    "criterion = torch.nn.L1Loss(reduction='none')\n",
    "\n",
    "model.train()\n",
    "model.configure_activation_checkpointing()\n",
    "\n",
    "\n"
   ]
  },
  {
   "cell_type": "markdown",
   "metadata": {},
   "source": [
    "###  Función de entrenamiento"
   ]
  },
  {
   "cell_type": "code",
   "execution_count": 11,
   "metadata": {},
   "outputs": [],
   "source": [
    "import matplotlib.pyplot as plt\n",
    "from tqdm import tqdm\n",
    "\n",
    "\n",
    "def train(\n",
    "    model, \n",
    "    train_dataset, \n",
    "    val_dataset, \n",
    "    batch_size, \n",
    "    num_epochs, \n",
    "    criterion, \n",
    "    optimizer, \n",
    "    sample_size, \n",
    "    device\n",
    "):\n",
    "    \"\"\"\n",
    "    Entrena el modelo y calcula las pérdidas en entrenamiento y validación.\n",
    "    \"\"\"\n",
    "    # Generadores de batches para entrenamiento y validación\n",
    "    train_generator = BatchGenerator(train_dataset, sample_size, batch_size, shuffle=True, padding=True)\n",
    "    val_generator = BatchGenerator(val_dataset, sample_size, batch_size, shuffle=False, padding=False)\n",
    "\n",
    "    # Listas para almacenar pérdidas\n",
    "    train_losses = []\n",
    "    val_losses = []\n",
    "\n",
    "    # Inicializar el escalador para AMP\n",
    "    scaler = GradScaler()\n",
    "    \n",
    "    for epoch in range(num_epochs):\n",
    "        model.train()\n",
    "        train_loss = 0.0\n",
    "        total_batches = 0\n",
    "\n",
    "        for batch, batch_target in tqdm(train_generator, desc=f\"Epoch {epoch + 1}/{num_epochs} - Train\"): \n",
    "            optimizer.zero_grad()\n",
    "\n",
    "            if getattr(batch.metadata, 'is_padding', False):\n",
    "                continue\n",
    "\n",
    "            # Obtener el target y moverlo al dispositivo\n",
    "            target = batch_target.surf_vars['thetao'].to(device)  # Shape: (batch_size, 1, lat, lon)\n",
    "\n",
    "            with autocast(device_type=device.type):\n",
    "                # Obtener las predicciones del modelo\n",
    "                outputs = [out.to(device) for out in rollout(model, batch, steps=1)]\n",
    "                model_output = outputs[0]\n",
    "                output_tensor = model_output.surf_vars['thetao']  # Shape: (batch_size, 1, lat, lon)\n",
    "\n",
    "                # Calcular la pérdida sin reducción\n",
    "                loss_matrix = criterion(output_tensor, target)  # Shape: (batch_size, 1, lat, lon)\n",
    "\n",
    "                # Promediar en latitud y longitud para obtener la pérdida por muestra\n",
    "                loss_per_sample = loss_matrix.mean(dim=[2, 3])  # Shape: (batch_size, 1)\n",
    "                loss_per_sample = loss_per_sample.squeeze(1)     # Shape: (batch_size,)\n",
    "\n",
    "                # Calcular la pérdida total del batch\n",
    "                loss = loss_per_sample.mean()\n",
    "\n",
    "            # Backpropagación\n",
    "            scaler.scale(loss).backward()\n",
    "            scaler.step(optimizer)\n",
    "            scaler.update()\n",
    "\n",
    "            # Acumular la pérdida\n",
    "            train_loss += loss.item()\n",
    "            total_batches += 1\n",
    "\n",
    "        # Promediar la pérdida del entrenamiento\n",
    "        if total_batches > 0:\n",
    "            average_train_loss = train_loss / total_batches\n",
    "            train_losses.append(average_train_loss)\n",
    "        else:\n",
    "            train_losses.append(0)\n",
    "        print(f\"Epoch {epoch + 1}/{num_epochs}, Train Loss: {train_losses[-1]:.6f}\")\n",
    "\n",
    "        # Validación\n",
    "        model.eval()\n",
    "        val_loss = 0.0\n",
    "        total_val_batches = 0\n",
    "\n",
    "        with torch.no_grad():\n",
    "            for batch, batch_target in tqdm(val_generator, desc=f\"Epoch {epoch + 1}/{num_epochs} - Validation\"):\n",
    "                if getattr(batch.metadata, 'is_padding', False):\n",
    "                    continue\n",
    "\n",
    "                target = batch_target.surf_vars['thetao'].to(device)\n",
    "\n",
    "                outputs = [out.to(device) for out in rollout(model, batch, steps=1)]\n",
    "                model_output = outputs[0]\n",
    "                output_tensor = model_output.surf_vars['thetao']\n",
    "\n",
    "                # Calcular la pérdida sin reducción\n",
    "                loss_matrix = criterion(output_tensor, target)  # Shape: (batch_size, 1, lat, lon)\n",
    "\n",
    "                # Promediar en latitud y longitud para obtener la pérdida por muestra\n",
    "                loss_per_sample = loss_matrix.mean(dim=[2, 3])  # Shape: (batch_size, 1)\n",
    "                loss_per_sample = loss_per_sample.squeeze(1)     # Shape: (batch_size,)\n",
    "\n",
    "                # Calcular la pérdida total del batch.\n",
    "                loss = loss_per_sample.mean()\n",
    "\n",
    "                val_loss += loss.item()\n",
    "                total_val_batches += 1\n",
    "\n",
    "        # Promediar la pérdida de validación\n",
    "        if total_val_batches > 0:\n",
    "            average_val_loss = val_loss / total_val_batches\n",
    "            val_losses.append(average_val_loss)\n",
    "        else:\n",
    "            val_losses.append(0)\n",
    "        \n",
    "        print(f\"Epoch {epoch + 1}/{num_epochs}, Validation Loss: {val_losses[-1]:.6f}\")\n",
    "\n",
    "    return train_losses, val_losses\n",
    "\n",
    "\n"
   ]
  },
  {
   "cell_type": "code",
   "execution_count": 12,
   "metadata": {},
   "outputs": [
    {
     "name": "stderr",
     "output_type": "stream",
     "text": [
      "Epoch 1/1 - Train: 0it [00:00, ?it/s]c:\\Users\\Victor\\miniconda3\\envs\\Aurora_env\\Lib\\site-packages\\aurora\\model\\perceiver.py:136: UserWarning: 1Torch was not compiled with flash attention. (Triggered internally at C:\\actions-runner\\_work\\pytorch\\pytorch\\builder\\windows\\pytorch\\aten\\src\\ATen\\native\\transformers\\cuda\\sdp_utils.cpp:555.)\n",
      "  out = F.scaled_dot_product_attention(q, k, v)\n",
      "c:\\Users\\Victor\\miniconda3\\envs\\Aurora_env\\Lib\\site-packages\\torch\\utils\\checkpoint.py:1399: FutureWarning: `torch.cpu.amp.autocast(args...)` is deprecated. Please use `torch.amp.autocast('cpu', args...)` instead.\n",
      "  with device_autocast_ctx, torch.cpu.amp.autocast(**cpu_autocast_kwargs), recompute_context:  # type: ignore[attr-defined]\n",
      "Epoch 1/1 - Train: 7it [04:17, 36.75s/it]\n"
     ]
    },
    {
     "name": "stdout",
     "output_type": "stream",
     "text": [
      "Epoch 1/1, Train Loss: 0.401901\n"
     ]
    },
    {
     "name": "stderr",
     "output_type": "stream",
     "text": [
      "Epoch 1/1 - Validation: 1it [00:17, 17.44s/it]"
     ]
    },
    {
     "name": "stdout",
     "output_type": "stream",
     "text": [
      "Epoch 1/1, Validation Loss: 0.206044\n"
     ]
    },
    {
     "name": "stderr",
     "output_type": "stream",
     "text": [
      "\n"
     ]
    }
   ],
   "source": [
    "# Parámetros para el entrenamiento\n",
    "batch_size = 3\n",
    "sample_size = 3\n",
    "num_epochs = 1\n",
    "\n",
    "\n",
    "\n",
    "# Ejecutar el entrenamiento con validación y cálculo de RMSE\n",
    "train_losses, val_losses = train(\n",
    "    model=model,\n",
    "    train_dataset=train_dataset,\n",
    "    val_dataset=val_dataset,\n",
    "    batch_size=batch_size,\n",
    "    num_epochs=num_epochs,\n",
    "    criterion=criterion,\n",
    "    optimizer=optimizer,\n",
    "    sample_size=sample_size,\n",
    "    device=device,\n",
    ")\n",
    "\n",
    "\n"
   ]
  },
  {
   "cell_type": "code",
   "execution_count": null,
   "metadata": {},
   "outputs": [],
   "source": []
  },
  {
   "cell_type": "code",
   "execution_count": 13,
   "metadata": {},
   "outputs": [
    {
     "data": {
      "image/png": "[encoded data removed]",
      "text/plain": [
       "<Figure size 640x480 with 1 Axes>"
      ]
     },
     "metadata": {},
     "output_type": "display_data"
    }
   ],
   "source": [
    "# Graficar las pérdidas\n",
    "plt.plot(train_losses, label='Train Loss')\n",
    "plt.plot(val_losses, label='Validation Loss')\n",
    "plt.xlabel('Epoch')\n",
    "plt.ylabel('Loss')\n",
    "plt.title('Train vs Validation Loss')\n",
    "plt.legend()\n",
    "plt.show()"
   ]
  },
  {
   "cell_type": "markdown",
   "metadata": {},
   "source": [
    "### Guardar el modelo"
   ]
  },
  {
   "cell_type": "code",
   "execution_count": 14,
   "metadata": {},
   "outputs": [],
   "source": [
    "\n",
    "torch.save(model, 'C:/Users/Victor/deep_ocean/TFG_victor/saved_models/modelo_aurora_prueba_metricas.pth')\n",
    "\n",
    "\n"
   ]
  },
  {
   "cell_type": "code",
   "execution_count": 14,
   "metadata": {},
   "outputs": [
    {
     "name": "stderr",
     "output_type": "stream",
     "text": [
      "C:\\Users\\Victor\\AppData\\Local\\Temp\\ipykernel_4084\\3408016398.py:1: FutureWarning: You are using `torch.load` with `weights_only=False` (the current default value), which uses the default pickle module implicitly. It is possible to construct malicious pickle data which will execute arbitrary code during unpickling (See https://github.com/pytorch/pytorch/blob/main/SECURITY.md#untrusted-models for more details). In a future release, the default value for `weights_only` will be flipped to `True`. This limits the functions that could be executed during unpickling. Arbitrary objects will no longer be allowed to be loaded via this mode unless they are explicitly allowlisted by the user via `torch.serialization.add_safe_globals`. We recommend you start setting `weights_only=True` for any use case where you don't have full control of the loaded file. Please open an issue on GitHub for any issues related to this experimental feature.\n",
      "  model = torch.load('C:/Users/Victor/deep_ocean/TFG_victor/saved_models/modelo_aurora_prueba_metricas.pth')\n",
      "c:\\Users\\Victor\\miniconda3\\envs\\Aurora_env\\Lib\\site-packages\\aurora\\model\\perceiver.py:136: UserWarning: 1Torch was not compiled with flash attention. (Triggered internally at C:\\actions-runner\\_work\\pytorch\\pytorch\\builder\\windows\\pytorch\\aten\\src\\ATen\\native\\transformers\\cuda\\sdp_utils.cpp:555.)\n",
      "  out = F.scaled_dot_product_attention(q, k, v)\n"
     ]
    }
   ],
   "source": [
    "model = torch.load('C:/Users/Victor/deep_ocean/TFG_victor/saved_models/modelo_aurora_prueba_metricas.pth')\n",
    "model.eval()\n",
    "batch_size = 3\n",
    "\n",
    "# Create a BatchGenerator for the test dataset\n",
    "test_generator = BatchGenerator(test_dataset, sample_size=3, batch_size=batch_size, shuffle=False, padding=False)\n",
    "\n",
    "# Lists to store predictions, targets, and timestamps\n",
    "predictions = []\n",
    "targets = []\n",
    "timestamps = []\n",
    "\n",
    "# Perform inference and collect predictions\n",
    "for batch, batch_target in test_generator:\n",
    "    # Move batch to device\n",
    "    if getattr(batch.metadata, 'is_padding', False):\n",
    "        continue  # Skip padding batches if any\n",
    "\n",
    "    target = batch_target.surf_vars['thetao'].to(device)\n",
    "    targets.append(target.cpu().numpy())\n",
    "    timestamps.extend(batch.metadata.time)\n",
    "\n",
    "    with torch.no_grad():\n",
    "        outputs = [out.to(device) for out in rollout(model, batch, steps=1)]\n",
    "        model_output = outputs[0]\n",
    "        prediction = model_output.surf_vars['thetao'].cpu().numpy()\n",
    "        predictions.append(prediction)\n"
   ]
  },
  {
   "cell_type": "markdown",
   "metadata": {},
   "source": [
    "# Métricas basandonos en el artículo: The rise of Data-Driven Weather Forecasting\n",
    "---"
   ]
  },
  {
   "cell_type": "markdown",
   "metadata": {},
   "source": [
    "Antes de calcular las métricas, necesitamos preparar los datos: predicciones, valores reales (targets) y las latitudes correspondientes.\n",
    "\n",
    "#### Cargar las predicciones y los targets"
   ]
  },
  {
   "cell_type": "code",
   "execution_count": 15,
   "metadata": {},
   "outputs": [
    {
     "name": "stdout",
     "output_type": "stream",
     "text": [
      "Forma de all_predictions: (2, 180, 180)\n",
      "Forma de all_targets: (2, 180, 180)\n"
     ]
    }
   ],
   "source": [
    "\n",
    "all_predictions = np.concatenate(predictions, axis=0).squeeze(axis=1)  # Forma: (num_samples, lat, lon)\n",
    "all_targets = np.concatenate(targets, axis=0).squeeze(axis=1)          # Forma: (num_samples, lat, lon)\n",
    "\n",
    "print(f\"Forma de all_predictions: {all_predictions.shape}\")\n",
    "print(f\"Forma de all_targets: {all_targets.shape}\")"
   ]
  },
  {
   "cell_type": "markdown",
   "metadata": {},
   "source": [
    "**Salida esperada:**\n",
    "\n",
    "Forma de all_predictions: (num_samples, lat, lon)\n",
    "\n",
    "Forma de all_targets: (num_samples, lat, lon)\n",
    "\n",
    "#### Obtener las latitudes"
   ]
  },
  {
   "cell_type": "code",
   "execution_count": 16,
   "metadata": {},
   "outputs": [
    {
     "name": "stdout",
     "output_type": "stream",
     "text": [
      "Forma de latitudes: (180,)\n",
      "Primeras 5 latitudes: [34.5      34.416668 34.333332 34.25     34.166668]\n"
     ]
    }
   ],
   "source": [
    "# Obtener las latitudes del dataset\n",
    "latitudes = dataset['latitude'].values  # Forma: (lat,)\n",
    "\n",
    "print(f\"Forma de latitudes: {latitudes.shape}\")\n",
    "print(f\"Primeras 5 latitudes: {latitudes[:5]}\")\n"
   ]
  },
  {
   "cell_type": "markdown",
   "metadata": {},
   "source": [
    "### RMSE (Root Mean Square Error) ponderado por latitud\n",
    "El RMSE mide el error cuadrático medio entre las predicciones y los valores reales, ponderado por el coseno de la latitud.\n",
    "\n",
    "#### Paso 1: Convertir las latitudes a radianes y calcular los pesos"
   ]
  },
  {
   "cell_type": "code",
   "execution_count": 40,
   "metadata": {},
   "outputs": [
    {
     "name": "stdout",
     "output_type": "stream",
     "text": [
      "Latitudes en radianes: [0.6021386  0.60068417 0.5992297  0.5977753  0.59632087]\n",
      "Pesos sin normalizar: [0.8241262  0.8249491  0.8257703  0.82658976 0.8274074 ]\n"
     ]
    }
   ],
   "source": [
    "# Convertir latitudes de grados a radianes\n",
    "lat_rad = np.deg2rad(latitudes)\n",
    "print(f\"Latitudes en radianes: {lat_rad[:5]}\")  # Mostrar las primeras 5 latitudes en radianes\n",
    "\n",
    "# Calcular los pesos usando el coseno de la latitud\n",
    "weights = np.cos(lat_rad)\n",
    "print(f\"Pesos sin normalizar: {weights[:5]}\")  # Mostrar los primeros 5 pesos\n",
    "\n",
    "\n"
   ]
  },
  {
   "cell_type": "markdown",
   "metadata": {},
   "source": [
    "#### Paso 2: Normalizar los pesos\n",
    "Aplicamos la normalización dividiendo cada peso por el promedio de todos los pesos:"
   ]
  },
  {
   "cell_type": "code",
   "execution_count": 39,
   "metadata": {},
   "outputs": [
    {
     "name": "stdout",
     "output_type": "stream",
     "text": [
      "Factor de normalización: 0.888134777545929\n",
      "Pesos normalizados: [0.92792916 0.9288557  0.9297804  0.93070304 0.9316237 ]\n"
     ]
    }
   ],
   "source": [
    "# Calcular el factor de normalización\n",
    "normalization_factor = np.mean(weights)\n",
    "print(f\"Factor de normalización: {normalization_factor}\")\n",
    "\n",
    "# Normalizar los pesos\n",
    "weights_normalized = weights / normalization_factor\n",
    "print(f\"Pesos normalizados: {weights_normalized[:5]}\")  # Mostrar los primeros 5 pesos normalizados\n"
   ]
  },
  {
   "cell_type": "markdown",
   "metadata": {},
   "source": [
    "**Salida esperada:**\n",
    "Factor de normalización: 0.8860357999801636\n",
    "Pesos normalizados: [0.93009686 0.9310137  0.9319296  0.93284404 0.9337578 ]\n"
   ]
  },
  {
   "cell_type": "markdown",
   "metadata": {},
   "source": [
    "**Salida esperada:**\n",
    "Latitudes en radianes: [0.6021386  0.60068417 0.5992297  0.5977753  0.59632087]\n",
    "Pesos sin normalizar: [0.8241262  0.8249491  0.8257703  0.82658976 0.8274074 ]\n",
    "\n",
    "\n",
    "#### Paso 3: Ajustar la forma de los pesos para que coincida con las predicciones y targets\n",
    "\n",
    "Debemos asegurarnos de que los pesos tengan la misma forma que nuestras predicciones y targets.\n",
    "\n"
   ]
  },
  {
   "cell_type": "code",
   "execution_count": null,
   "metadata": {},
   "outputs": [
    {
     "name": "stdout",
     "output_type": "stream",
     "text": [
      "Forma de weights_normalized después del reshape: (1, 180, 1)\n"
     ]
    }
   ],
   "source": [
    "\n",
    "# Reshape de los pesos para que tengan forma (1, lat, 1)\n",
    "weights_normalized = weights_normalized.reshape(1, -1, 1)\n",
    "print(f\"Forma de weights_normalized después del reshape: {weights_normalized.shape}\")\n",
    "\n"
   ]
  },
  {
   "cell_type": "markdown",
   "metadata": {},
   "source": [
    "**Salida esperada:**\n",
    "\n",
    "Forma de weights después del reshape: (1, lat, 1)\n",
    "\n",
    "#### Paso 4: Expandir los pesos para que coincidan con la forma de predicciones y targets"
   ]
  },
  {
   "cell_type": "code",
   "execution_count": 42,
   "metadata": {},
   "outputs": [
    {
     "name": "stdout",
     "output_type": "stream",
     "text": [
      "Forma de weights_full: (2, 180, 180)\n"
     ]
    }
   ],
   "source": [
    "\n",
    "# Expandir los pesos para que tengan la misma forma que las predicciones y targets\n",
    "weights_full = np.tile(weights_normalized, (all_predictions.shape[0], 1, all_predictions.shape[2]))\n",
    "print(f\"Forma de weights_full: {weights_full.shape}\")\n"
   ]
  },
  {
   "cell_type": "markdown",
   "metadata": {},
   "source": [
    "**Salida esperada:**\n",
    "\n",
    "Forma de weights_full: (num_samples, lat, lon)\n",
    "\n",
    "#### Paso 5: Verificar valores mínimos y máximos de los pesos normalizados\n"
   ]
  },
  {
   "cell_type": "code",
   "execution_count": 44,
   "metadata": {},
   "outputs": [
    {
     "name": "stdout",
     "output_type": "stream",
     "text": [
      "Valores mínimos y máximos de los pesos normalizados: 0.927929162979126, 1.0608243942260742\n"
     ]
    }
   ],
   "source": [
    "print(f\"Valores mínimos y máximos de los pesos normalizados: {weights_normalized.min()}, {weights_normalized.max()}\")\n"
   ]
  },
  {
   "cell_type": "markdown",
   "metadata": {},
   "source": [
    "#### Paso 6: Calcular el RMSE ponderado"
   ]
  },
  {
   "cell_type": "code",
   "execution_count": 45,
   "metadata": {},
   "outputs": [
    {
     "name": "stdout",
     "output_type": "stream",
     "text": [
      "Errores cuadrados (primeros 5 valores):\n",
      "[0.03022683 0.00607494 0.00085652 0.00030899 0.00769261]\n"
     ]
    }
   ],
   "source": [
    "# Calcular los errores cuadrados\n",
    "squared_errors = (all_predictions - all_targets) ** 2\n",
    "print(f\"Errores cuadrados (primeros 5 valores):\\n{squared_errors.flatten()[:5]}\")\n",
    "\n"
   ]
  },
  {
   "cell_type": "markdown",
   "metadata": {},
   "source": [
    "#### Paso 7: Aplanar los arrays y aplicar máscara para NaNs\n",
    "\n"
   ]
  },
  {
   "cell_type": "code",
   "execution_count": 46,
   "metadata": {},
   "outputs": [
    {
     "name": "stdout",
     "output_type": "stream",
     "text": [
      "Tamaño después de eliminar NaNs: 64800\n"
     ]
    }
   ],
   "source": [
    "# Aplanar los arrays\n",
    "squared_errors_flat = squared_errors.reshape(-1)\n",
    "weights_flat = weights_full.reshape(-1)\n",
    "\n",
    "# Crear una máscara para eliminar valores NaN\n",
    "valid_mask = ~np.isnan(squared_errors_flat) & ~np.isnan(weights_flat)\n",
    "\n",
    "# Aplicar la máscara\n",
    "squared_errors_flat = squared_errors_flat[valid_mask]\n",
    "weights_flat = weights_flat[valid_mask]\n",
    "\n",
    "print(f\"Tamaño después de eliminar NaNs: {squared_errors_flat.size}\")\n",
    "\n"
   ]
  },
  {
   "cell_type": "markdown",
   "metadata": {},
   "source": [
    "#### Paso 8: Calcular el RMSE ponderado usando np.average"
   ]
  },
  {
   "cell_type": "code",
   "execution_count": 47,
   "metadata": {},
   "outputs": [
    {
     "name": "stdout",
     "output_type": "stream",
     "text": [
      "RMSE ponderado: 0.3188740015029907\n"
     ]
    }
   ],
   "source": [
    "# Calcular la media ponderada de los errores cuadrados\n",
    "mse_weighted = np.average(squared_errors_flat, weights=weights_flat)\n",
    "rmse_weighted = np.sqrt(mse_weighted)\n",
    "print(f\"RMSE ponderado: {rmse_weighted}\")\n",
    "\n"
   ]
  },
  {
   "cell_type": "markdown",
   "metadata": {},
   "source": [
    "## Calculo del Bias ponderado"
   ]
  },
  {
   "cell_type": "markdown",
   "metadata": {},
   "source": [
    "#### Paso 1: Calcular las diferencias entre predicciones y targets"
   ]
  },
  {
   "cell_type": "code",
   "execution_count": 48,
   "metadata": {},
   "outputs": [
    {
     "name": "stdout",
     "output_type": "stream",
     "text": [
      "Diferencias (primeros 5 valores):\n",
      "[ 0.17385864  0.07794189  0.02926636 -0.01757812 -0.08770752]\n"
     ]
    }
   ],
   "source": [
    "# Calcular las diferencias\n",
    "differences = all_predictions - all_targets\n",
    "print(f\"Diferencias (primeros 5 valores):\\n{differences.flatten()[:5]}\")\n",
    "\n"
   ]
  },
  {
   "cell_type": "markdown",
   "metadata": {},
   "source": [
    "#### Paso 2: Aplanar los arrays y aplicar máscara para NaNs"
   ]
  },
  {
   "cell_type": "code",
   "execution_count": 49,
   "metadata": {},
   "outputs": [
    {
     "name": "stdout",
     "output_type": "stream",
     "text": [
      "Tamaño después de eliminar NaNs: 64800\n"
     ]
    }
   ],
   "source": [
    "# Aplanar los arrays\n",
    "differences_flat = differences.reshape(-1)\n",
    "weights_flat = weights_full.reshape(-1)\n",
    "\n",
    "# Crear una máscara para eliminar valores NaN\n",
    "valid_mask = ~np.isnan(differences_flat) & ~np.isnan(weights_flat)\n",
    "\n",
    "# Aplicar la máscara\n",
    "differences_flat = differences_flat[valid_mask]\n",
    "weights_flat = weights_flat[valid_mask]\n",
    "\n",
    "print(f\"Tamaño después de eliminar NaNs: {differences_flat.size}\")\n"
   ]
  },
  {
   "cell_type": "markdown",
   "metadata": {},
   "source": [
    "#### Paso 2: Calcular el numerador y denominador para el Bias ponderado"
   ]
  },
  {
   "cell_type": "code",
   "execution_count": 28,
   "metadata": {},
   "outputs": [
    {
     "name": "stdout",
     "output_type": "stream",
     "text": [
      "Numerador (suma de diferencias ponderadas): 5100.748046875\n",
      "Denominador (suma de pesos): 57551.1328125\n"
     ]
    }
   ],
   "source": [
    "# Calcular el numerador: suma de las diferencias ponderadas\n",
    "numerator_bias = np.sum(weights_full * differences)\n",
    "\n",
    "# Calcular el denominador: suma de los pesos (ya calculado anteriormente)\n",
    "# denominator_bias = denominator (del RMSE)\n",
    "\n",
    "print(f\"Numerador (suma de diferencias ponderadas): {numerator_bias}\")\n",
    "print(f\"Denominador (suma de pesos): {denominator}\")  # Reutilizamos el denominador del RMSE\n"
   ]
  },
  {
   "cell_type": "markdown",
   "metadata": {},
   "source": [
    "#### Paso 3: Calcular el Bias ponderado usando np.average"
   ]
  },
  {
   "cell_type": "code",
   "execution_count": 50,
   "metadata": {},
   "outputs": [
    {
     "name": "stdout",
     "output_type": "stream",
     "text": [
      "Bias ponderado: 0.0886298418045044\n"
     ]
    }
   ],
   "source": [
    "\n",
    "# Calcular el Bias ponderado\n",
    "bias_weighted = np.average(differences_flat, weights=weights_flat)\n",
    "print(f\"Bias ponderado: {bias_weighted}\")\n",
    "\n"
   ]
  },
  {
   "cell_type": "markdown",
   "metadata": {},
   "source": [
    "## Calculo del ACC ponderado"
   ]
  },
  {
   "cell_type": "markdown",
   "metadata": {},
   "source": [
    "#### Paso 1: Aplanar los arrays y aplicar máscara para NaNs"
   ]
  },
  {
   "cell_type": "code",
   "execution_count": 51,
   "metadata": {},
   "outputs": [
    {
     "name": "stdout",
     "output_type": "stream",
     "text": [
      "Tamaño después de eliminar NaNs: 64800\n"
     ]
    }
   ],
   "source": [
    "# Aplanar los arrays\n",
    "pred_flat = all_predictions.reshape(-1)\n",
    "target_flat = all_targets.reshape(-1)\n",
    "weights_flat = weights_full.reshape(-1)\n",
    "\n",
    "# Crear una máscara para eliminar valores NaN\n",
    "valid_mask = ~np.isnan(pred_flat) & ~np.isnan(target_flat) & ~np.isnan(weights_flat)\n",
    "\n",
    "# Aplicar la máscara\n",
    "pred_flat = pred_flat[valid_mask]\n",
    "target_flat = target_flat[valid_mask]\n",
    "weights_flat = weights_flat[valid_mask]\n",
    "\n",
    "print(f\"Tamaño después de eliminar NaNs: {pred_flat.size}\")\n"
   ]
  },
  {
   "cell_type": "markdown",
   "metadata": {},
   "source": [
    "#### Paso 2: Calcular las medias ponderadas"
   ]
  },
  {
   "cell_type": "code",
   "execution_count": 52,
   "metadata": {},
   "outputs": [
    {
     "name": "stdout",
     "output_type": "stream",
     "text": [
      "Media ponderada de las predicciones: 292.1131591796875\n",
      "Media ponderada de los targets: 292.0245361328125\n"
     ]
    }
   ],
   "source": [
    "# Calcular las medias ponderadas\n",
    "pred_mean = np.average(pred_flat, weights=weights_flat)\n",
    "target_mean = np.average(target_flat, weights=weights_flat)\n",
    "\n",
    "print(f\"Media ponderada de las predicciones: {pred_mean}\")\n",
    "print(f\"Media ponderada de los targets: {target_mean}\")\n",
    "\n"
   ]
  },
  {
   "cell_type": "markdown",
   "metadata": {},
   "source": [
    "#### Paso 3: Calcular las anomalías"
   ]
  },
  {
   "cell_type": "code",
   "execution_count": 53,
   "metadata": {},
   "outputs": [
    {
     "name": "stdout",
     "output_type": "stream",
     "text": [
      "Anomalías de predicciones (primeros 5): [-0.23565674 -0.29934692 -0.28430176 -0.30917358 -0.49502563]\n",
      "Anomalías de targets (primeros 5): [-0.32089233 -0.28866577 -0.22494507 -0.20297241 -0.31869507]\n"
     ]
    }
   ],
   "source": [
    "# Calcular las anomalías\n",
    "pred_anomaly = pred_flat - pred_mean\n",
    "target_anomaly = target_flat - target_mean\n",
    "\n",
    "print(f\"Anomalías de predicciones (primeros 5): {pred_anomaly[:5]}\")\n",
    "print(f\"Anomalías de targets (primeros 5): {target_anomaly[:5]}\")\n",
    "\n"
   ]
  },
  {
   "cell_type": "markdown",
   "metadata": {},
   "source": [
    "#### Paso 4: Calcular covarianza y varianzas ponderadas"
   ]
  },
  {
   "cell_type": "code",
   "execution_count": 56,
   "metadata": {},
   "outputs": [
    {
     "name": "stdout",
     "output_type": "stream",
     "text": [
      "Covarianza ponderada: 0.7013556361198425\n",
      "Varianza ponderada de las predicciones: 0.7371399402618408\n",
      "Varianza ponderada de los targets: 0.7593966126441956\n"
     ]
    }
   ],
   "source": [
    "# Calcular la covarianza ponderada\n",
    "covariance = np.average(pred_anomaly * target_anomaly, weights=weights_flat)\n",
    "print(f\"Covarianza ponderada: {covariance}\")\n",
    "\n",
    "# Calcular las varianzas ponderadas\n",
    "pred_variance = np.average(pred_anomaly ** 2, weights=weights_flat)\n",
    "target_variance = np.average(target_anomaly ** 2, weights=weights_flat)\n",
    "print(f\"Varianza ponderada de las predicciones: {pred_variance}\")\n",
    "print(f\"Varianza ponderada de los targets: {target_variance}\")\n",
    "\n"
   ]
  },
  {
   "cell_type": "markdown",
   "metadata": {},
   "source": [
    "#### Paso 5: Calcular el ACC ponderado"
   ]
  },
  {
   "cell_type": "code",
   "execution_count": 57,
   "metadata": {},
   "outputs": [
    {
     "name": "stdout",
     "output_type": "stream",
     "text": [
      "Denominador del ACC: 0.7481855154037476\n",
      "ACC ponderado: 0.9374087452888489\n"
     ]
    }
   ],
   "source": [
    "# Calcular el denominador\n",
    "denominator = np.sqrt(pred_variance * target_variance)\n",
    "print(f\"Denominador del ACC: {denominator}\")\n",
    "\n",
    "# Verificar que el denominador no sea cero\n",
    "if denominator != 0:\n",
    "    acc_weighted = covariance / denominator\n",
    "else:\n",
    "    acc_weighted = np.nan\n",
    "    print(\"El denominador es cero, ACC no está definido.\")\n",
    "\n",
    "print(f\"ACC ponderado: {acc_weighted}\")\n"
   ]
  },
  {
   "cell_type": "markdown",
   "metadata": {},
   "source": [
    "### Creamos una clase con todas las métricas:"
   ]
  },
  {
   "cell_type": "code",
   "execution_count": 58,
   "metadata": {},
   "outputs": [],
   "source": [
    "import numpy as np\n",
    "\n",
    "class Metricas:\n",
    "    def __init__(self, latitudes):\n",
    "        \"\"\" Inicializa la clase con latitudes y calcula las ponderaciones normalizadas. \"\"\"\n",
    "        self.latitudes = latitudes\n",
    "        # Convertir latitudes a radianes\n",
    "        lat_rad = np.deg2rad(self.latitudes)\n",
    "        # Calcular los pesos y normalizar\n",
    "        weights = np.cos(lat_rad)\n",
    "        normalization_factor = np.mean(weights)\n",
    "        self.weights = (weights / normalization_factor).reshape(1, -1, 1)\n",
    "        print(f\"Ponderaciones normalizadas (primeros 5): {self.weights.flatten()[:5]}\")\n",
    "    \n",
    "    def rmse(self, pred, target):\n",
    "        \"\"\" Calcula el RMSE ponderado entre pred y target. \"\"\"\n",
    "        # Expandir las ponderaciones\n",
    "        weights_full = np.tile(self.weights, (pred.shape[0], 1, pred.shape[2]))\n",
    "        print(f\"Forma de weights_full: {weights_full.shape}\")\n",
    "        \n",
    "        # Calcular los errores cuadrados\n",
    "        errors_squared = (pred - target) ** 2\n",
    "        # Aplanar los arrays\n",
    "        errors_squared_flat = errors_squared.reshape(-1)\n",
    "        weights_flat = weights_full.reshape(-1)\n",
    "        # Crear una máscara para eliminar valores NaN\n",
    "        mask = ~np.isnan(errors_squared_flat) & ~np.isnan(weights_flat)\n",
    "        # Aplicar la máscara\n",
    "        errors_squared_flat = errors_squared_flat[mask]\n",
    "        weights_flat = weights_flat[mask]\n",
    "        print(f\"Tamaño después de eliminar NaNs: {errors_squared_flat.size}\")\n",
    "        \n",
    "        # Calcular la media ponderada de los errores cuadrados\n",
    "        mse_weighted = np.average(errors_squared_flat, weights=weights_flat)\n",
    "        rmse_weighted = np.sqrt(mse_weighted)\n",
    "        return rmse_weighted\n",
    "    \n",
    "    def bias(self, pred, target):\n",
    "        \"\"\" Calcula el sesgo ponderado entre pred y target. \"\"\"\n",
    "        # Expandir las ponderaciones\n",
    "        weights_full = np.tile(self.weights, (pred.shape[0], 1, pred.shape[2]))\n",
    "        \n",
    "        # Calcular las diferencias\n",
    "        differences = pred - target\n",
    "        # Aplanar los arrays\n",
    "        differences_flat = differences.reshape(-1)\n",
    "        weights_flat = weights_full.reshape(-1)\n",
    "        # Crear una máscara para eliminar valores NaN\n",
    "        mask = ~np.isnan(differences_flat) & ~np.isnan(weights_flat)\n",
    "        # Aplicar la máscara\n",
    "        differences_flat = differences_flat[mask]\n",
    "        weights_flat = weights_flat[mask]\n",
    "        print(f\"Tamaño después de eliminar NaNs: {differences_flat.size}\")\n",
    "        \n",
    "        # Calcular el Bias ponderado\n",
    "        bias_weighted = np.average(differences_flat, weights=weights_flat)\n",
    "        return bias_weighted\n",
    "    \n",
    "    def acc(self, pred, target):\n",
    "        \"\"\" Calcula el Coeficiente de Correlación de Anomalías (ACC) ponderado entre pred y target. \"\"\"\n",
    "        # Expandir las ponderaciones\n",
    "        weights_full = np.tile(self.weights, (pred.shape[0], 1, pred.shape[2]))\n",
    "        \n",
    "        # Aplanar los arrays\n",
    "        pred_flat = pred.reshape(-1)\n",
    "        target_flat = target.reshape(-1)\n",
    "        weights_flat = weights_full.reshape(-1)\n",
    "        # Crear una máscara para eliminar valores NaN\n",
    "        mask = ~np.isnan(pred_flat) & ~np.isnan(target_flat) & ~np.isnan(weights_flat)\n",
    "        # Aplicar la máscara\n",
    "        pred_flat = pred_flat[mask]\n",
    "        target_flat = target_flat[mask]\n",
    "        weights_flat = weights_flat[mask]\n",
    "        print(f\"Tamaño después de eliminar NaNs: {pred_flat.size}\")\n",
    "        \n",
    "        # Calcular las medias ponderadas\n",
    "        pred_mean = np.average(pred_flat, weights=weights_flat)\n",
    "        target_mean = np.average(target_flat, weights=weights_flat)\n",
    "        print(f\"Media ponderada de las predicciones: {pred_mean}\")\n",
    "        print(f\"Media ponderada de los targets: {target_mean}\")\n",
    "        \n",
    "        # Calcular las anomalías\n",
    "        pred_anomaly = pred_flat - pred_mean\n",
    "        target_anomaly = target_flat - target_mean\n",
    "        \n",
    "        # Calcular covarianza y varianzas ponderadas\n",
    "        covariance = np.average(pred_anomaly * target_anomaly, weights=weights_flat)\n",
    "        pred_variance = np.average(pred_anomaly ** 2, weights=weights_flat)\n",
    "        target_variance = np.average(target_anomaly ** 2, weights=weights_flat)\n",
    "        print(f\"Covarianza ponderada: {covariance}\")\n",
    "        print(f\"Varianza ponderada de las predicciones: {pred_variance}\")\n",
    "        print(f\"Varianza ponderada de los targets: {target_variance}\")\n",
    "        \n",
    "        # Calcular el ACC\n",
    "        denominator = np.sqrt(pred_variance * target_variance)\n",
    "        if denominator != 0:\n",
    "            acc_weighted = covariance / denominator\n",
    "        else:\n",
    "            acc_weighted = np.nan\n",
    "            print(\"El denominador es cero, ACC no está definido.\")\n",
    "        return acc_weighted\n"
   ]
  },
  {
   "cell_type": "code",
   "execution_count": 59,
   "metadata": {},
   "outputs": [
    {
     "name": "stdout",
     "output_type": "stream",
     "text": [
      "Ponderaciones normalizadas (primeros 5): [0.92792916 0.9288557  0.9297804  0.93070304 0.9316237 ]\n",
      "Forma de weights_full: (2, 180, 180)\n",
      "Tamaño después de eliminar NaNs: 64800\n",
      "RMSE ponderado: 0.3188740015029907\n",
      "Tamaño después de eliminar NaNs: 64800\n",
      "Sesgo ponderado: 0.0886298418045044\n",
      "Tamaño después de eliminar NaNs: 64800\n",
      "Media ponderada de las predicciones: 292.1131591796875\n",
      "Media ponderada de los targets: 292.0245361328125\n",
      "Covarianza ponderada: 0.7013556361198425\n",
      "Varianza ponderada de las predicciones: 0.7371399402618408\n",
      "Varianza ponderada de los targets: 0.7593966126441956\n",
      "ACC ponderado: 0.9374087452888489\n"
     ]
    }
   ],
   "source": [
    "# Crear instancia de la clase Metricas con las latitudes\n",
    "metricas = Metricas(latitudes)\n",
    "\n",
    "# Calcular RMSE ponderado\n",
    "rmse = metricas.rmse(all_predictions, all_targets)\n",
    "print(f\"RMSE ponderado: {rmse}\")\n",
    "\n",
    "# Calcular Sesgo ponderado\n",
    "sesgo = metricas.bias(all_predictions, all_targets)\n",
    "print(f\"Sesgo ponderado: {sesgo}\")\n",
    "\n",
    "# Calcular ACC ponderado\n",
    "acc = metricas.acc(all_predictions, all_targets)\n",
    "print(f\"ACC ponderado: {acc}\")\n"
   ]
  }
 ],
 "metadata": {
  "kernelspec": {
   "display_name": "Aurora_env",
   "language": "python",
   "name": "python3"
  },
  "language_info": {
   "codemirror_mode": {
    "name": "ipython",
    "version": 3
   },
   "file_extension": ".py",
   "mimetype": "text/x-python",
   "name": "python",
   "nbconvert_exporter": "python",
   "pygments_lexer": "ipython3",
   "version": "3.12.7"
  }
 },
 "nbformat": 4,
 "nbformat_minor": 2
}

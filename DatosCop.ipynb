{
 "cells": [
  {
   "cell_type": "code",
   "execution_count": null,
   "metadata": {},
   "outputs": [],
   "source": [
    "import copernicusmarine\n",
    "\n",
    "copernicusmarine.__version__"
   ]
  },
  {
   "cell_type": "code",
   "execution_count": null,
   "metadata": {},
   "outputs": [],
   "source": [
    "copernicusmarine.login()"
   ]
  },
  {
   "cell_type": "code",
   "execution_count": null,
   "metadata": {},
   "outputs": [],
   "source": [
    "ds = copernicusmarine.subset(\n",
    "    dataset_id=\"cmems_mod_glo_phy_my_0.083deg_P1D-m\",\n",
    "    variables=[\"thetao\"]\n",
    "    minimum_longitude=-20.97,\n",
    "    maximum_longitude=-5.975,\n",
    "    minimum_latitude=19.55,\n",
    "    maximum_latitude=34.525,\n",
    "    start_datetime=\"2014-01-01T00:00:00\",  # Fecha de inicio\n",
    "    end_datetime=\"2021-01-1T00:00:00\",    # Fecha de fin\n",
    "    minimum_depth=0.49402499198913574,\n",
    "    maximum_depth=5727.9,\n",
    "    output_filename = \"cmems_mod_glo_phy_my_0.083deg_P1D-m.nc\",\n",
    "    output_directory = \"/Directorio/Donde/Guardar/Archivo\"\n",
    "    )\n",
    "\n",
    "\n",
    "\n",
    "\n",
    "\n",
    "\n",
    "\n"
   ]
  },
  {
   "cell_type": "code",
   "execution_count": null,
   "metadata": {},
   "outputs": [],
   "source": []
  }
 ],
 "metadata": {
  "kernelspec": {
   "display_name": "Aurora_env",
   "language": "python",
   "name": "python3"
  },
  "language_info": {
   "codemirror_mode": {
    "name": "ipython",
    "version": 3
   },
   "file_extension": ".py",
   "mimetype": "text/x-python",
   "name": "python",
   "nbconvert_exporter": "python",
   "pygments_lexer": "ipython3",
   "version": "3.12.7"
  }
 },
 "nbformat": 4,
 "nbformat_minor": 2
}
